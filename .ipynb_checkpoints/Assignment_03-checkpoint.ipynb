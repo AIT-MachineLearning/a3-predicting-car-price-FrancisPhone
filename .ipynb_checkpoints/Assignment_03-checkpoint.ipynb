{
 "cells": [
  {
   "cell_type": "markdown",
   "id": "66c0be68",
   "metadata": {},
   "source": [
    "# Import Libraries"
   ]
  },
  {
   "cell_type": "code",
   "execution_count": 1,
   "id": "6d666e35",
   "metadata": {},
   "outputs": [],
   "source": [
    "import numpy as np\n",
    "import pandas as pd\n",
    "import seaborn as sns\n",
    "import matplotlib.pyplot as plt \n",
    "import warnings\n",
    "warnings.filterwarnings('ignore')"
   ]
  },
  {
   "cell_type": "markdown",
   "id": "5d9b5e35",
   "metadata": {},
   "source": [
    "#  1. Load Dataset"
   ]
  },
  {
   "cell_type": "code",
   "execution_count": 2,
   "id": "5414b6ba",
   "metadata": {},
   "outputs": [
    {
     "data": {
      "text/html": [
       "<div>\n",
       "<style scoped>\n",
       "    .dataframe tbody tr th:only-of-type {\n",
       "        vertical-align: middle;\n",
       "    }\n",
       "\n",
       "    .dataframe tbody tr th {\n",
       "        vertical-align: top;\n",
       "    }\n",
       "\n",
       "    .dataframe thead th {\n",
       "        text-align: right;\n",
       "    }\n",
       "</style>\n",
       "<table border=\"1\" class=\"dataframe\">\n",
       "  <thead>\n",
       "    <tr style=\"text-align: right;\">\n",
       "      <th></th>\n",
       "      <th>name</th>\n",
       "      <th>year</th>\n",
       "      <th>selling_price</th>\n",
       "      <th>km_driven</th>\n",
       "      <th>fuel</th>\n",
       "      <th>seller_type</th>\n",
       "      <th>transmission</th>\n",
       "      <th>owner</th>\n",
       "      <th>mileage</th>\n",
       "      <th>engine</th>\n",
       "      <th>max_power</th>\n",
       "      <th>torque</th>\n",
       "      <th>seats</th>\n",
       "    </tr>\n",
       "  </thead>\n",
       "  <tbody>\n",
       "    <tr>\n",
       "      <th>0</th>\n",
       "      <td>Maruti Swift Dzire VDI</td>\n",
       "      <td>2014</td>\n",
       "      <td>450000</td>\n",
       "      <td>145500</td>\n",
       "      <td>Diesel</td>\n",
       "      <td>Individual</td>\n",
       "      <td>Manual</td>\n",
       "      <td>First Owner</td>\n",
       "      <td>23.4 kmpl</td>\n",
       "      <td>1248 CC</td>\n",
       "      <td>74 bhp</td>\n",
       "      <td>190Nm@ 2000rpm</td>\n",
       "      <td>5.0</td>\n",
       "    </tr>\n",
       "    <tr>\n",
       "      <th>1</th>\n",
       "      <td>Skoda Rapid 1.5 TDI Ambition</td>\n",
       "      <td>2014</td>\n",
       "      <td>370000</td>\n",
       "      <td>120000</td>\n",
       "      <td>Diesel</td>\n",
       "      <td>Individual</td>\n",
       "      <td>Manual</td>\n",
       "      <td>Second Owner</td>\n",
       "      <td>21.14 kmpl</td>\n",
       "      <td>1498 CC</td>\n",
       "      <td>103.52 bhp</td>\n",
       "      <td>250Nm@ 1500-2500rpm</td>\n",
       "      <td>5.0</td>\n",
       "    </tr>\n",
       "    <tr>\n",
       "      <th>2</th>\n",
       "      <td>Honda City 2017-2020 EXi</td>\n",
       "      <td>2006</td>\n",
       "      <td>158000</td>\n",
       "      <td>140000</td>\n",
       "      <td>Petrol</td>\n",
       "      <td>Individual</td>\n",
       "      <td>Manual</td>\n",
       "      <td>Third Owner</td>\n",
       "      <td>17.7 kmpl</td>\n",
       "      <td>1497 CC</td>\n",
       "      <td>78 bhp</td>\n",
       "      <td>12.7@ 2,700(kgm@ rpm)</td>\n",
       "      <td>5.0</td>\n",
       "    </tr>\n",
       "    <tr>\n",
       "      <th>3</th>\n",
       "      <td>Hyundai i20 Sportz Diesel</td>\n",
       "      <td>2010</td>\n",
       "      <td>225000</td>\n",
       "      <td>127000</td>\n",
       "      <td>Diesel</td>\n",
       "      <td>Individual</td>\n",
       "      <td>Manual</td>\n",
       "      <td>First Owner</td>\n",
       "      <td>23.0 kmpl</td>\n",
       "      <td>1396 CC</td>\n",
       "      <td>90 bhp</td>\n",
       "      <td>22.4 kgm at 1750-2750rpm</td>\n",
       "      <td>5.0</td>\n",
       "    </tr>\n",
       "    <tr>\n",
       "      <th>4</th>\n",
       "      <td>Maruti Swift VXI BSIII</td>\n",
       "      <td>2007</td>\n",
       "      <td>130000</td>\n",
       "      <td>120000</td>\n",
       "      <td>Petrol</td>\n",
       "      <td>Individual</td>\n",
       "      <td>Manual</td>\n",
       "      <td>First Owner</td>\n",
       "      <td>16.1 kmpl</td>\n",
       "      <td>1298 CC</td>\n",
       "      <td>88.2 bhp</td>\n",
       "      <td>11.5@ 4,500(kgm@ rpm)</td>\n",
       "      <td>5.0</td>\n",
       "    </tr>\n",
       "    <tr>\n",
       "      <th>...</th>\n",
       "      <td>...</td>\n",
       "      <td>...</td>\n",
       "      <td>...</td>\n",
       "      <td>...</td>\n",
       "      <td>...</td>\n",
       "      <td>...</td>\n",
       "      <td>...</td>\n",
       "      <td>...</td>\n",
       "      <td>...</td>\n",
       "      <td>...</td>\n",
       "      <td>...</td>\n",
       "      <td>...</td>\n",
       "      <td>...</td>\n",
       "    </tr>\n",
       "    <tr>\n",
       "      <th>8123</th>\n",
       "      <td>Hyundai i20 Magna</td>\n",
       "      <td>2013</td>\n",
       "      <td>320000</td>\n",
       "      <td>110000</td>\n",
       "      <td>Petrol</td>\n",
       "      <td>Individual</td>\n",
       "      <td>Manual</td>\n",
       "      <td>First Owner</td>\n",
       "      <td>18.5 kmpl</td>\n",
       "      <td>1197 CC</td>\n",
       "      <td>82.85 bhp</td>\n",
       "      <td>113.7Nm@ 4000rpm</td>\n",
       "      <td>5.0</td>\n",
       "    </tr>\n",
       "    <tr>\n",
       "      <th>8124</th>\n",
       "      <td>Hyundai Verna CRDi SX</td>\n",
       "      <td>2007</td>\n",
       "      <td>135000</td>\n",
       "      <td>119000</td>\n",
       "      <td>Diesel</td>\n",
       "      <td>Individual</td>\n",
       "      <td>Manual</td>\n",
       "      <td>Fourth &amp; Above Owner</td>\n",
       "      <td>16.8 kmpl</td>\n",
       "      <td>1493 CC</td>\n",
       "      <td>110 bhp</td>\n",
       "      <td>24@ 1,900-2,750(kgm@ rpm)</td>\n",
       "      <td>5.0</td>\n",
       "    </tr>\n",
       "    <tr>\n",
       "      <th>8125</th>\n",
       "      <td>Maruti Swift Dzire ZDi</td>\n",
       "      <td>2009</td>\n",
       "      <td>382000</td>\n",
       "      <td>120000</td>\n",
       "      <td>Diesel</td>\n",
       "      <td>Individual</td>\n",
       "      <td>Manual</td>\n",
       "      <td>First Owner</td>\n",
       "      <td>19.3 kmpl</td>\n",
       "      <td>1248 CC</td>\n",
       "      <td>73.9 bhp</td>\n",
       "      <td>190Nm@ 2000rpm</td>\n",
       "      <td>5.0</td>\n",
       "    </tr>\n",
       "    <tr>\n",
       "      <th>8126</th>\n",
       "      <td>Tata Indigo CR4</td>\n",
       "      <td>2013</td>\n",
       "      <td>290000</td>\n",
       "      <td>25000</td>\n",
       "      <td>Diesel</td>\n",
       "      <td>Individual</td>\n",
       "      <td>Manual</td>\n",
       "      <td>First Owner</td>\n",
       "      <td>23.57 kmpl</td>\n",
       "      <td>1396 CC</td>\n",
       "      <td>70 bhp</td>\n",
       "      <td>140Nm@ 1800-3000rpm</td>\n",
       "      <td>5.0</td>\n",
       "    </tr>\n",
       "    <tr>\n",
       "      <th>8127</th>\n",
       "      <td>Tata Indigo CR4</td>\n",
       "      <td>2013</td>\n",
       "      <td>290000</td>\n",
       "      <td>25000</td>\n",
       "      <td>Diesel</td>\n",
       "      <td>Individual</td>\n",
       "      <td>Manual</td>\n",
       "      <td>First Owner</td>\n",
       "      <td>23.57 kmpl</td>\n",
       "      <td>1396 CC</td>\n",
       "      <td>70 bhp</td>\n",
       "      <td>140Nm@ 1800-3000rpm</td>\n",
       "      <td>5.0</td>\n",
       "    </tr>\n",
       "  </tbody>\n",
       "</table>\n",
       "<p>8128 rows × 13 columns</p>\n",
       "</div>"
      ],
      "text/plain": [
       "                              name  year  selling_price  km_driven    fuel  \\\n",
       "0           Maruti Swift Dzire VDI  2014         450000     145500  Diesel   \n",
       "1     Skoda Rapid 1.5 TDI Ambition  2014         370000     120000  Diesel   \n",
       "2         Honda City 2017-2020 EXi  2006         158000     140000  Petrol   \n",
       "3        Hyundai i20 Sportz Diesel  2010         225000     127000  Diesel   \n",
       "4           Maruti Swift VXI BSIII  2007         130000     120000  Petrol   \n",
       "...                            ...   ...            ...        ...     ...   \n",
       "8123             Hyundai i20 Magna  2013         320000     110000  Petrol   \n",
       "8124         Hyundai Verna CRDi SX  2007         135000     119000  Diesel   \n",
       "8125        Maruti Swift Dzire ZDi  2009         382000     120000  Diesel   \n",
       "8126               Tata Indigo CR4  2013         290000      25000  Diesel   \n",
       "8127               Tata Indigo CR4  2013         290000      25000  Diesel   \n",
       "\n",
       "     seller_type transmission                 owner     mileage   engine  \\\n",
       "0     Individual       Manual           First Owner   23.4 kmpl  1248 CC   \n",
       "1     Individual       Manual          Second Owner  21.14 kmpl  1498 CC   \n",
       "2     Individual       Manual           Third Owner   17.7 kmpl  1497 CC   \n",
       "3     Individual       Manual           First Owner   23.0 kmpl  1396 CC   \n",
       "4     Individual       Manual           First Owner   16.1 kmpl  1298 CC   \n",
       "...          ...          ...                   ...         ...      ...   \n",
       "8123  Individual       Manual           First Owner   18.5 kmpl  1197 CC   \n",
       "8124  Individual       Manual  Fourth & Above Owner   16.8 kmpl  1493 CC   \n",
       "8125  Individual       Manual           First Owner   19.3 kmpl  1248 CC   \n",
       "8126  Individual       Manual           First Owner  23.57 kmpl  1396 CC   \n",
       "8127  Individual       Manual           First Owner  23.57 kmpl  1396 CC   \n",
       "\n",
       "       max_power                     torque  seats  \n",
       "0         74 bhp             190Nm@ 2000rpm    5.0  \n",
       "1     103.52 bhp        250Nm@ 1500-2500rpm    5.0  \n",
       "2         78 bhp      12.7@ 2,700(kgm@ rpm)    5.0  \n",
       "3         90 bhp   22.4 kgm at 1750-2750rpm    5.0  \n",
       "4       88.2 bhp      11.5@ 4,500(kgm@ rpm)    5.0  \n",
       "...          ...                        ...    ...  \n",
       "8123   82.85 bhp           113.7Nm@ 4000rpm    5.0  \n",
       "8124     110 bhp  24@ 1,900-2,750(kgm@ rpm)    5.0  \n",
       "8125    73.9 bhp             190Nm@ 2000rpm    5.0  \n",
       "8126      70 bhp        140Nm@ 1800-3000rpm    5.0  \n",
       "8127      70 bhp        140Nm@ 1800-3000rpm    5.0  \n",
       "\n",
       "[8128 rows x 13 columns]"
      ]
     },
     "execution_count": 2,
     "metadata": {},
     "output_type": "execute_result"
    }
   ],
   "source": [
    "df = pd.read_csv('Cars.csv')\n",
    "df"
   ]
  },
  {
   "cell_type": "markdown",
   "id": "bcb03f47",
   "metadata": {},
   "source": [
    "# 2. EDA"
   ]
  },
  {
   "cell_type": "markdown",
   "id": "2fb59194",
   "metadata": {},
   "source": [
    "## 2.1 Data Cleaning"
   ]
  },
  {
   "cell_type": "code",
   "execution_count": 3,
   "id": "cea08595",
   "metadata": {
    "scrolled": true
   },
   "outputs": [
    {
     "data": {
      "text/html": [
       "<div>\n",
       "<style scoped>\n",
       "    .dataframe tbody tr th:only-of-type {\n",
       "        vertical-align: middle;\n",
       "    }\n",
       "\n",
       "    .dataframe tbody tr th {\n",
       "        vertical-align: top;\n",
       "    }\n",
       "\n",
       "    .dataframe thead th {\n",
       "        text-align: right;\n",
       "    }\n",
       "</style>\n",
       "<table border=\"1\" class=\"dataframe\">\n",
       "  <thead>\n",
       "    <tr style=\"text-align: right;\">\n",
       "      <th></th>\n",
       "      <th>name</th>\n",
       "      <th>year</th>\n",
       "      <th>selling_price</th>\n",
       "      <th>km_driven</th>\n",
       "      <th>fuel</th>\n",
       "      <th>seller_type</th>\n",
       "      <th>transmission</th>\n",
       "      <th>owner</th>\n",
       "      <th>mileage</th>\n",
       "      <th>engine</th>\n",
       "      <th>max_power</th>\n",
       "      <th>torque</th>\n",
       "      <th>seats</th>\n",
       "    </tr>\n",
       "  </thead>\n",
       "  <tbody>\n",
       "    <tr>\n",
       "      <th>6812</th>\n",
       "      <td>Hyundai Creta 1.4 CRDi S</td>\n",
       "      <td>2016</td>\n",
       "      <td>900000</td>\n",
       "      <td>130000</td>\n",
       "      <td>Diesel</td>\n",
       "      <td>Individual</td>\n",
       "      <td>Manual</td>\n",
       "      <td>First Owner</td>\n",
       "      <td>21.38 kmpl</td>\n",
       "      <td>1396 CC</td>\n",
       "      <td>88.7 bhp</td>\n",
       "      <td>219.7Nm@ 1500-2750rpm</td>\n",
       "      <td>5.0</td>\n",
       "    </tr>\n",
       "    <tr>\n",
       "      <th>7821</th>\n",
       "      <td>Maruti Wagon R VXI</td>\n",
       "      <td>2005</td>\n",
       "      <td>150000</td>\n",
       "      <td>80000</td>\n",
       "      <td>Petrol</td>\n",
       "      <td>Individual</td>\n",
       "      <td>Manual</td>\n",
       "      <td>Second Owner</td>\n",
       "      <td>18.9 kmpl</td>\n",
       "      <td>998 CC</td>\n",
       "      <td>67.1 bhp</td>\n",
       "      <td>90Nm@ 3500rpm</td>\n",
       "      <td>5.0</td>\n",
       "    </tr>\n",
       "    <tr>\n",
       "      <th>2459</th>\n",
       "      <td>Maruti 800 AC</td>\n",
       "      <td>2002</td>\n",
       "      <td>60000</td>\n",
       "      <td>52365</td>\n",
       "      <td>Petrol</td>\n",
       "      <td>Dealer</td>\n",
       "      <td>Manual</td>\n",
       "      <td>Second Owner</td>\n",
       "      <td>16.1 kmpl</td>\n",
       "      <td>796 CC</td>\n",
       "      <td>37 bhp</td>\n",
       "      <td>59Nm@ 2500rpm</td>\n",
       "      <td>4.0</td>\n",
       "    </tr>\n",
       "    <tr>\n",
       "      <th>3999</th>\n",
       "      <td>Fiat Grande Punto Active (Diesel)</td>\n",
       "      <td>2012</td>\n",
       "      <td>170000</td>\n",
       "      <td>60000</td>\n",
       "      <td>Diesel</td>\n",
       "      <td>Individual</td>\n",
       "      <td>Manual</td>\n",
       "      <td>Second Owner</td>\n",
       "      <td>20.3 kmpl</td>\n",
       "      <td>1248 CC</td>\n",
       "      <td>75 bhp</td>\n",
       "      <td>197Nm@ 1750rpm</td>\n",
       "      <td>5.0</td>\n",
       "    </tr>\n",
       "    <tr>\n",
       "      <th>7690</th>\n",
       "      <td>Maruti Swift VDI Optional</td>\n",
       "      <td>2015</td>\n",
       "      <td>475000</td>\n",
       "      <td>60000</td>\n",
       "      <td>Diesel</td>\n",
       "      <td>Individual</td>\n",
       "      <td>Manual</td>\n",
       "      <td>First Owner</td>\n",
       "      <td>25.2 kmpl</td>\n",
       "      <td>1248 CC</td>\n",
       "      <td>74 bhp</td>\n",
       "      <td>190Nm@ 2000rpm</td>\n",
       "      <td>5.0</td>\n",
       "    </tr>\n",
       "  </tbody>\n",
       "</table>\n",
       "</div>"
      ],
      "text/plain": [
       "                                   name  year  selling_price  km_driven  \\\n",
       "6812           Hyundai Creta 1.4 CRDi S  2016         900000     130000   \n",
       "7821                 Maruti Wagon R VXI  2005         150000      80000   \n",
       "2459                      Maruti 800 AC  2002          60000      52365   \n",
       "3999  Fiat Grande Punto Active (Diesel)  2012         170000      60000   \n",
       "7690          Maruti Swift VDI Optional  2015         475000      60000   \n",
       "\n",
       "        fuel seller_type transmission         owner     mileage   engine  \\\n",
       "6812  Diesel  Individual       Manual   First Owner  21.38 kmpl  1396 CC   \n",
       "7821  Petrol  Individual       Manual  Second Owner   18.9 kmpl   998 CC   \n",
       "2459  Petrol      Dealer       Manual  Second Owner   16.1 kmpl   796 CC   \n",
       "3999  Diesel  Individual       Manual  Second Owner   20.3 kmpl  1248 CC   \n",
       "7690  Diesel  Individual       Manual   First Owner   25.2 kmpl  1248 CC   \n",
       "\n",
       "     max_power                 torque  seats  \n",
       "6812  88.7 bhp  219.7Nm@ 1500-2750rpm    5.0  \n",
       "7821  67.1 bhp          90Nm@ 3500rpm    5.0  \n",
       "2459    37 bhp          59Nm@ 2500rpm    4.0  \n",
       "3999    75 bhp         197Nm@ 1750rpm    5.0  \n",
       "7690    74 bhp         190Nm@ 2000rpm    5.0  "
      ]
     },
     "execution_count": 3,
     "metadata": {},
     "output_type": "execute_result"
    }
   ],
   "source": [
    "# Scan all data\n",
    "df.sample(5)"
   ]
  },
  {
   "cell_type": "code",
   "execution_count": 4,
   "id": "17e6e25f",
   "metadata": {},
   "outputs": [
    {
     "data": {
      "text/plain": [
       "{'First Owner': 1,\n",
       " 'Second Owner': 2,\n",
       " 'Third Owner': 3,\n",
       " 'Fourth & Above Owner': 4,\n",
       " 'Test Drive Car': 5}"
      ]
     },
     "execution_count": 4,
     "metadata": {},
     "output_type": "execute_result"
    }
   ],
   "source": [
    "# Need to encoded to visualize the correlations\n",
    "\n",
    "owner_map = dict()\n",
    "for i, owner in enumerate(df.owner.unique()):\n",
    "    owner_map[owner] = i+1\n",
    "    \n",
    "owner_map"
   ]
  },
  {
   "cell_type": "code",
   "execution_count": 5,
   "id": "2c5162c7",
   "metadata": {},
   "outputs": [
    {
     "data": {
      "text/html": [
       "<div>\n",
       "<style scoped>\n",
       "    .dataframe tbody tr th:only-of-type {\n",
       "        vertical-align: middle;\n",
       "    }\n",
       "\n",
       "    .dataframe tbody tr th {\n",
       "        vertical-align: top;\n",
       "    }\n",
       "\n",
       "    .dataframe thead th {\n",
       "        text-align: right;\n",
       "    }\n",
       "</style>\n",
       "<table border=\"1\" class=\"dataframe\">\n",
       "  <thead>\n",
       "    <tr style=\"text-align: right;\">\n",
       "      <th></th>\n",
       "      <th>name</th>\n",
       "      <th>year</th>\n",
       "      <th>selling_price</th>\n",
       "      <th>km_driven</th>\n",
       "      <th>fuel</th>\n",
       "      <th>seller_type</th>\n",
       "      <th>transmission</th>\n",
       "      <th>owner</th>\n",
       "      <th>mileage</th>\n",
       "      <th>engine</th>\n",
       "      <th>max_power</th>\n",
       "      <th>torque</th>\n",
       "      <th>seats</th>\n",
       "    </tr>\n",
       "  </thead>\n",
       "  <tbody>\n",
       "    <tr>\n",
       "      <th>0</th>\n",
       "      <td>Maruti Swift Dzire VDI</td>\n",
       "      <td>2014</td>\n",
       "      <td>450000</td>\n",
       "      <td>145500</td>\n",
       "      <td>Diesel</td>\n",
       "      <td>Individual</td>\n",
       "      <td>Manual</td>\n",
       "      <td>1</td>\n",
       "      <td>23.4 kmpl</td>\n",
       "      <td>1248 CC</td>\n",
       "      <td>74 bhp</td>\n",
       "      <td>190Nm@ 2000rpm</td>\n",
       "      <td>5.0</td>\n",
       "    </tr>\n",
       "    <tr>\n",
       "      <th>1</th>\n",
       "      <td>Skoda Rapid 1.5 TDI Ambition</td>\n",
       "      <td>2014</td>\n",
       "      <td>370000</td>\n",
       "      <td>120000</td>\n",
       "      <td>Diesel</td>\n",
       "      <td>Individual</td>\n",
       "      <td>Manual</td>\n",
       "      <td>2</td>\n",
       "      <td>21.14 kmpl</td>\n",
       "      <td>1498 CC</td>\n",
       "      <td>103.52 bhp</td>\n",
       "      <td>250Nm@ 1500-2500rpm</td>\n",
       "      <td>5.0</td>\n",
       "    </tr>\n",
       "    <tr>\n",
       "      <th>2</th>\n",
       "      <td>Honda City 2017-2020 EXi</td>\n",
       "      <td>2006</td>\n",
       "      <td>158000</td>\n",
       "      <td>140000</td>\n",
       "      <td>Petrol</td>\n",
       "      <td>Individual</td>\n",
       "      <td>Manual</td>\n",
       "      <td>3</td>\n",
       "      <td>17.7 kmpl</td>\n",
       "      <td>1497 CC</td>\n",
       "      <td>78 bhp</td>\n",
       "      <td>12.7@ 2,700(kgm@ rpm)</td>\n",
       "      <td>5.0</td>\n",
       "    </tr>\n",
       "    <tr>\n",
       "      <th>3</th>\n",
       "      <td>Hyundai i20 Sportz Diesel</td>\n",
       "      <td>2010</td>\n",
       "      <td>225000</td>\n",
       "      <td>127000</td>\n",
       "      <td>Diesel</td>\n",
       "      <td>Individual</td>\n",
       "      <td>Manual</td>\n",
       "      <td>1</td>\n",
       "      <td>23.0 kmpl</td>\n",
       "      <td>1396 CC</td>\n",
       "      <td>90 bhp</td>\n",
       "      <td>22.4 kgm at 1750-2750rpm</td>\n",
       "      <td>5.0</td>\n",
       "    </tr>\n",
       "    <tr>\n",
       "      <th>4</th>\n",
       "      <td>Maruti Swift VXI BSIII</td>\n",
       "      <td>2007</td>\n",
       "      <td>130000</td>\n",
       "      <td>120000</td>\n",
       "      <td>Petrol</td>\n",
       "      <td>Individual</td>\n",
       "      <td>Manual</td>\n",
       "      <td>1</td>\n",
       "      <td>16.1 kmpl</td>\n",
       "      <td>1298 CC</td>\n",
       "      <td>88.2 bhp</td>\n",
       "      <td>11.5@ 4,500(kgm@ rpm)</td>\n",
       "      <td>5.0</td>\n",
       "    </tr>\n",
       "    <tr>\n",
       "      <th>...</th>\n",
       "      <td>...</td>\n",
       "      <td>...</td>\n",
       "      <td>...</td>\n",
       "      <td>...</td>\n",
       "      <td>...</td>\n",
       "      <td>...</td>\n",
       "      <td>...</td>\n",
       "      <td>...</td>\n",
       "      <td>...</td>\n",
       "      <td>...</td>\n",
       "      <td>...</td>\n",
       "      <td>...</td>\n",
       "      <td>...</td>\n",
       "    </tr>\n",
       "    <tr>\n",
       "      <th>8123</th>\n",
       "      <td>Hyundai i20 Magna</td>\n",
       "      <td>2013</td>\n",
       "      <td>320000</td>\n",
       "      <td>110000</td>\n",
       "      <td>Petrol</td>\n",
       "      <td>Individual</td>\n",
       "      <td>Manual</td>\n",
       "      <td>1</td>\n",
       "      <td>18.5 kmpl</td>\n",
       "      <td>1197 CC</td>\n",
       "      <td>82.85 bhp</td>\n",
       "      <td>113.7Nm@ 4000rpm</td>\n",
       "      <td>5.0</td>\n",
       "    </tr>\n",
       "    <tr>\n",
       "      <th>8124</th>\n",
       "      <td>Hyundai Verna CRDi SX</td>\n",
       "      <td>2007</td>\n",
       "      <td>135000</td>\n",
       "      <td>119000</td>\n",
       "      <td>Diesel</td>\n",
       "      <td>Individual</td>\n",
       "      <td>Manual</td>\n",
       "      <td>4</td>\n",
       "      <td>16.8 kmpl</td>\n",
       "      <td>1493 CC</td>\n",
       "      <td>110 bhp</td>\n",
       "      <td>24@ 1,900-2,750(kgm@ rpm)</td>\n",
       "      <td>5.0</td>\n",
       "    </tr>\n",
       "    <tr>\n",
       "      <th>8125</th>\n",
       "      <td>Maruti Swift Dzire ZDi</td>\n",
       "      <td>2009</td>\n",
       "      <td>382000</td>\n",
       "      <td>120000</td>\n",
       "      <td>Diesel</td>\n",
       "      <td>Individual</td>\n",
       "      <td>Manual</td>\n",
       "      <td>1</td>\n",
       "      <td>19.3 kmpl</td>\n",
       "      <td>1248 CC</td>\n",
       "      <td>73.9 bhp</td>\n",
       "      <td>190Nm@ 2000rpm</td>\n",
       "      <td>5.0</td>\n",
       "    </tr>\n",
       "    <tr>\n",
       "      <th>8126</th>\n",
       "      <td>Tata Indigo CR4</td>\n",
       "      <td>2013</td>\n",
       "      <td>290000</td>\n",
       "      <td>25000</td>\n",
       "      <td>Diesel</td>\n",
       "      <td>Individual</td>\n",
       "      <td>Manual</td>\n",
       "      <td>1</td>\n",
       "      <td>23.57 kmpl</td>\n",
       "      <td>1396 CC</td>\n",
       "      <td>70 bhp</td>\n",
       "      <td>140Nm@ 1800-3000rpm</td>\n",
       "      <td>5.0</td>\n",
       "    </tr>\n",
       "    <tr>\n",
       "      <th>8127</th>\n",
       "      <td>Tata Indigo CR4</td>\n",
       "      <td>2013</td>\n",
       "      <td>290000</td>\n",
       "      <td>25000</td>\n",
       "      <td>Diesel</td>\n",
       "      <td>Individual</td>\n",
       "      <td>Manual</td>\n",
       "      <td>1</td>\n",
       "      <td>23.57 kmpl</td>\n",
       "      <td>1396 CC</td>\n",
       "      <td>70 bhp</td>\n",
       "      <td>140Nm@ 1800-3000rpm</td>\n",
       "      <td>5.0</td>\n",
       "    </tr>\n",
       "  </tbody>\n",
       "</table>\n",
       "<p>8128 rows × 13 columns</p>\n",
       "</div>"
      ],
      "text/plain": [
       "                              name  year  selling_price  km_driven    fuel  \\\n",
       "0           Maruti Swift Dzire VDI  2014         450000     145500  Diesel   \n",
       "1     Skoda Rapid 1.5 TDI Ambition  2014         370000     120000  Diesel   \n",
       "2         Honda City 2017-2020 EXi  2006         158000     140000  Petrol   \n",
       "3        Hyundai i20 Sportz Diesel  2010         225000     127000  Diesel   \n",
       "4           Maruti Swift VXI BSIII  2007         130000     120000  Petrol   \n",
       "...                            ...   ...            ...        ...     ...   \n",
       "8123             Hyundai i20 Magna  2013         320000     110000  Petrol   \n",
       "8124         Hyundai Verna CRDi SX  2007         135000     119000  Diesel   \n",
       "8125        Maruti Swift Dzire ZDi  2009         382000     120000  Diesel   \n",
       "8126               Tata Indigo CR4  2013         290000      25000  Diesel   \n",
       "8127               Tata Indigo CR4  2013         290000      25000  Diesel   \n",
       "\n",
       "     seller_type transmission  owner     mileage   engine   max_power  \\\n",
       "0     Individual       Manual      1   23.4 kmpl  1248 CC      74 bhp   \n",
       "1     Individual       Manual      2  21.14 kmpl  1498 CC  103.52 bhp   \n",
       "2     Individual       Manual      3   17.7 kmpl  1497 CC      78 bhp   \n",
       "3     Individual       Manual      1   23.0 kmpl  1396 CC      90 bhp   \n",
       "4     Individual       Manual      1   16.1 kmpl  1298 CC    88.2 bhp   \n",
       "...          ...          ...    ...         ...      ...         ...   \n",
       "8123  Individual       Manual      1   18.5 kmpl  1197 CC   82.85 bhp   \n",
       "8124  Individual       Manual      4   16.8 kmpl  1493 CC     110 bhp   \n",
       "8125  Individual       Manual      1   19.3 kmpl  1248 CC    73.9 bhp   \n",
       "8126  Individual       Manual      1  23.57 kmpl  1396 CC      70 bhp   \n",
       "8127  Individual       Manual      1  23.57 kmpl  1396 CC      70 bhp   \n",
       "\n",
       "                         torque  seats  \n",
       "0                190Nm@ 2000rpm    5.0  \n",
       "1           250Nm@ 1500-2500rpm    5.0  \n",
       "2         12.7@ 2,700(kgm@ rpm)    5.0  \n",
       "3      22.4 kgm at 1750-2750rpm    5.0  \n",
       "4         11.5@ 4,500(kgm@ rpm)    5.0  \n",
       "...                         ...    ...  \n",
       "8123           113.7Nm@ 4000rpm    5.0  \n",
       "8124  24@ 1,900-2,750(kgm@ rpm)    5.0  \n",
       "8125             190Nm@ 2000rpm    5.0  \n",
       "8126        140Nm@ 1800-3000rpm    5.0  \n",
       "8127        140Nm@ 1800-3000rpm    5.0  \n",
       "\n",
       "[8128 rows x 13 columns]"
      ]
     },
     "execution_count": 5,
     "metadata": {},
     "output_type": "execute_result"
    }
   ],
   "source": [
    "df.owner = df.owner.map(owner_map)\n",
    "df"
   ]
  },
  {
   "cell_type": "code",
   "execution_count": 6,
   "id": "77a1c8a8",
   "metadata": {},
   "outputs": [
    {
     "data": {
      "text/plain": [
       "array(['Diesel', 'Petrol', 'LPG', 'CNG'], dtype=object)"
      ]
     },
     "execution_count": 6,
     "metadata": {},
     "output_type": "execute_result"
    }
   ],
   "source": [
    "# Check the uniques values in Fuel type\n",
    "df.fuel.unique()"
   ]
  },
  {
   "cell_type": "code",
   "execution_count": 7,
   "id": "eb11bca3",
   "metadata": {},
   "outputs": [
    {
     "data": {
      "text/plain": [
       "array(['Diesel', 'Petrol'], dtype=object)"
      ]
     },
     "execution_count": 7,
     "metadata": {},
     "output_type": "execute_result"
    }
   ],
   "source": [
    "# CNG adn LPG are very rare values so drop them\n",
    "df = df[~df.fuel.str.contains(\"CNG|LPG\")]\n",
    "df.fuel.unique()"
   ]
  },
  {
   "cell_type": "code",
   "execution_count": 8,
   "id": "ab79efd9",
   "metadata": {},
   "outputs": [
    {
     "data": {
      "text/plain": [
       "array(['23.4 kmpl', '21.14 kmpl', '17.7 kmpl', '23.0 kmpl', '16.1 kmpl',\n",
       "       '20.14 kmpl', '23.59 kmpl', '20.0 kmpl', '19.01 kmpl', '17.3 kmpl',\n",
       "       '19.3 kmpl', nan, '18.9 kmpl', '18.15 kmpl', '24.52 kmpl',\n",
       "       '19.7 kmpl', '22.54 kmpl', '21.0 kmpl', '25.5 kmpl', '26.59 kmpl',\n",
       "       '21.5 kmpl', '20.3 kmpl', '21.4 kmpl', '24.7 kmpl', '18.2 kmpl',\n",
       "       '16.8 kmpl', '24.3 kmpl', '14.0 kmpl', '18.6 kmpl', '23.95 kmpl',\n",
       "       '17.0 kmpl', '20.63 kmpl', '13.93 kmpl', '16.0 kmpl', '17.8 kmpl',\n",
       "       '18.5 kmpl', '12.55 kmpl', '12.99 kmpl', '14.8 kmpl', '13.5 kmpl',\n",
       "       '26.0 kmpl', '20.65 kmpl', '27.3 kmpl', '11.36 kmpl', '17.68 kmpl',\n",
       "       '14.28 kmpl', '18.53 kmpl', '14.84 kmpl', '21.12 kmpl',\n",
       "       '20.36 kmpl', '21.27 kmpl', '18.16 kmpl', '22.0 kmpl', '25.1 kmpl',\n",
       "       '20.51 kmpl', '21.66 kmpl', '25.2 kmpl', '22.9 kmpl', '16.02 kmpl',\n",
       "       '20.54 kmpl', '22.77 kmpl', '15.71 kmpl', '23.1 kmpl',\n",
       "       '19.02 kmpl', '19.81 kmpl', '16.47 kmpl', '15.04 kmpl',\n",
       "       '19.1 kmpl', '21.79 kmpl', '18.8 kmpl', '21.21 kmpl', '15.37 kmpl',\n",
       "       '11.79 kmpl', '19.0 kmpl', '14.3 kmpl', '15.8 kmpl', '15.1 kmpl',\n",
       "       '19.09 kmpl', '22.32 kmpl', '21.9 kmpl', '14.53 kmpl',\n",
       "       '21.63 kmpl', '20.85 kmpl', '20.45 kmpl', '19.67 kmpl',\n",
       "       '23.01 kmpl', '20.77 kmpl', '17.92 kmpl', '17.01 kmpl',\n",
       "       '22.37 kmpl', '19.33 kmpl', '9.5 kmpl', '12.83 kmpl', '22.48 kmpl',\n",
       "       '16.78 kmpl', '14.67 kmpl', '15.0 kmpl', '13.96 kmpl', '18.0 kmpl',\n",
       "       '12.07 kmpl', '26.21 kmpl', '10.8 kmpl', '16.3 kmpl', '13.6 kmpl',\n",
       "       '14.74 kmpl', '15.6 kmpl', '19.56 kmpl', '22.69 kmpl',\n",
       "       '19.16 kmpl', '18.12 kmpl', '12.1 kmpl', '17.5 kmpl', '42.0 kmpl',\n",
       "       '20.4 kmpl', '21.1 kmpl', '19.44 kmpl', '13.0 kmpl', '21.43 kmpl',\n",
       "       '22.95 kmpl', '16.2 kmpl', '15.3 kmpl', '28.09 kmpl', '17.4 kmpl',\n",
       "       '19.4 kmpl', '17.6 kmpl', '28.4 kmpl', '14.1 kmpl', '25.17 kmpl',\n",
       "       '22.74 kmpl', '17.57 kmpl', '16.95 kmpl', '19.49 kmpl',\n",
       "       '17.21 kmpl', '13.2 kmpl', '14.2 kmpl', '26.8 kmpl', '25.4 kmpl',\n",
       "       '11.5 kmpl', '27.28 kmpl', '17.97 kmpl', '12.8 kmpl', '16.55 kmpl',\n",
       "       '12.05 kmpl', '14.07 kmpl', '21.02 kmpl', '11.57 kmpl',\n",
       "       '17.9 kmpl', '15.96 kmpl', '17.1 kmpl', '17.19 kmpl', '21.01 kmpl',\n",
       "       '24.0 kmpl', '25.6 kmpl', '21.38 kmpl', '23.84 kmpl', '23.08 kmpl',\n",
       "       '14.24 kmpl', '20.71 kmpl', '15.64 kmpl', '14.5 kmpl',\n",
       "       '16.34 kmpl', '27.39 kmpl', '11.1 kmpl', '13.9 kmpl', '20.92 kmpl',\n",
       "       '23.8 kmpl', '24.4 kmpl', '15.29 kmpl', '21.19 kmpl', '22.5 kmpl',\n",
       "       '19.6 kmpl', '23.65 kmpl', '25.32 kmpl', '23.5 kmpl', '16.6 kmpl',\n",
       "       '23.9 kmpl', '20.8 kmpl', '27.62 kmpl', '12.9 kmpl', '25.44 kmpl',\n",
       "       '17.88 kmpl', '22.7 kmpl', '17.2 kmpl', '15.42 kmpl', '19.68 kmpl',\n",
       "       '18.7 kmpl', '15.4 kmpl', '19.34 kmpl', '22.71 kmpl', '25.8 kmpl',\n",
       "       '13.7 kmpl', '12.2 kmpl', '18.49 kmpl', '9.0 kmpl', '0.0 kmpl',\n",
       "       '13.58 kmpl', '10.1 kmpl', '20.5 kmpl', '25.0 kmpl', '10.5 kmpl',\n",
       "       '22.07 kmpl', '22.3 kmpl', '15.26 kmpl', '20.62 kmpl', '27.4 kmpl',\n",
       "       '23.2 kmpl', '14.4 kmpl', '18.4 kmpl', '14.02 kmpl', '11.0 kmpl',\n",
       "       '20.6 kmpl', '22.05 kmpl', '20.2 kmpl', '18.1 kmpl', '22.1 kmpl',\n",
       "       '19.87 kmpl', '13.01 kmpl', '18.06 kmpl', '26.1 kmpl',\n",
       "       '16.52 kmpl', '13.55 kmpl', '24.2 kmpl', '25.83 kmpl', '11.2 kmpl',\n",
       "       '17.09 kmpl', '21.03 kmpl', '17.45 kmpl', '21.64 kmpl',\n",
       "       '13.87 kmpl', '19.98 kmpl', '20.52 kmpl', '23.57 kmpl',\n",
       "       '11.7 kmpl', '17.43 kmpl', '18.88 kmpl', '13.68 kmpl',\n",
       "       '11.18 kmpl', '20.89 kmpl', '11.8 kmpl', '19.62 kmpl', '21.7 kmpl',\n",
       "       '14.9 kmpl', '19.5 kmpl', '10.91 kmpl', '15.7 kmpl', '20.73 kmpl',\n",
       "       '15.85 kmpl', '20.7 kmpl', '14.23 kmpl', '16.5 kmpl', '17.36 kmpl',\n",
       "       '12.6 kmpl', '16.36 kmpl', '14.95 kmpl', '16.9 kmpl', '19.2 kmpl',\n",
       "       '16.96 kmpl', '22.15 kmpl', '18.78 kmpl', '19.61 kmpl',\n",
       "       '17.71 kmpl', '18.3 kmpl', '19.12 kmpl', '19.72 kmpl', '12.0 kmpl',\n",
       "       '11.4 kmpl', '23.03 kmpl', '11.07 kmpl', '15.9 kmpl', '17.67 kmpl',\n",
       "       '20.46 kmpl', '13.1 kmpl', '24.8 kmpl', '15.73 kmpl', '15.11 kmpl',\n",
       "       '12.7 kmpl', '21.2 kmpl', '20.38 kmpl', '21.56 kmpl', '13.22 kmpl',\n",
       "       '14.49 kmpl', '15.05 kmpl', '23.26 kmpl', '15.41 kmpl',\n",
       "       '13.8 kmpl', '22.27 kmpl', '14.66 kmpl', '12.12 kmpl',\n",
       "       '16.84 kmpl', '14.09 kmpl', '14.7 kmpl', '13.4 kmpl', '15.5 kmpl',\n",
       "       '13.49 kmpl', '14.6 kmpl', '10.75 kmpl', '24.5 kmpl', '11.74 kmpl',\n",
       "       '16.07 kmpl', '15.63 kmpl', '25.47 kmpl', '17.05 kmpl',\n",
       "       '23.3 kmpl', '11.9 kmpl', '13.38 kmpl', '20.86 kmpl', '10.9 kmpl',\n",
       "       '18.25 kmpl', '15.2 kmpl', '20.37 kmpl', '21.8 kmpl', '11.96 kmpl',\n",
       "       '24.04 kmpl', '19.69 kmpl', '13.73 kmpl', '21.04 kmpl',\n",
       "       '25.01 kmpl', '10.93 kmpl', '24.29 kmpl', '13.44 kmpl',\n",
       "       '20.07 kmpl', '19.08 kmpl', '20.34 kmpl', '11.68 kmpl',\n",
       "       '12.5 kmpl', '12.3 kmpl', '23.87 kmpl', '16.38 kmpl', '17.42 kmpl',\n",
       "       '10.0 kmpl', '18.24 kmpl', '10.71 kmpl', '19.59 kmpl', '16.7 kmpl',\n",
       "       '19.83 kmpl', '21.76 kmpl', '16.05 kmpl', '20.28 kmpl',\n",
       "       '16.25 kmpl', '16.73 kmpl', '18.48 kmpl', '14.99 kmpl',\n",
       "       '18.76 kmpl', '16.4 kmpl', '19.64 kmpl', '14.94 kmpl',\n",
       "       '17.11 kmpl', '12.4 kmpl', '18.44 kmpl', '16.09 kmpl',\n",
       "       '12.62 kmpl', '21.13 kmpl', '15.17 kmpl', '21.73 kmpl',\n",
       "       '21.72 kmpl', '12.85 kmpl', '14.81 kmpl', '13.24 kmpl',\n",
       "       '21.49 kmpl', '14.62 kmpl', '11.45 kmpl', '12.08 kmpl',\n",
       "       '15.74 kmpl', '11.3 kmpl', '14.21 kmpl', '11.72 kmpl',\n",
       "       '16.51 kmpl'], dtype=object)"
      ]
     },
     "execution_count": 8,
     "metadata": {},
     "output_type": "execute_result"
    }
   ],
   "source": [
    "# Check the uniques values in mileage\n",
    "df.mileage.unique()"
   ]
  },
  {
   "cell_type": "code",
   "execution_count": 9,
   "id": "a9123faa",
   "metadata": {},
   "outputs": [
    {
     "data": {
      "text/plain": [
       "214"
      ]
     },
     "execution_count": 9,
     "metadata": {},
     "output_type": "execute_result"
    }
   ],
   "source": [
    "# Check how many numbers\n",
    "df.mileage.isnull().sum()"
   ]
  },
  {
   "cell_type": "code",
   "execution_count": 10,
   "id": "9860db64",
   "metadata": {},
   "outputs": [],
   "source": [
    "# Function to get only numerical values\n",
    "def get_value(x):\n",
    "    if type(x) is str:\n",
    "        return float(x.split()[0])\n",
    "    else:\n",
    "        return x"
   ]
  },
  {
   "cell_type": "code",
   "execution_count": 11,
   "id": "e8b47251",
   "metadata": {},
   "outputs": [
    {
     "data": {
      "text/plain": [
       "array([23.4 , 21.14, 17.7 , 23.  , 16.1 , 20.14, 23.59, 20.  , 19.01,\n",
       "       17.3 , 19.3 ,   nan, 18.9 , 18.15, 24.52, 19.7 , 22.54, 21.  ,\n",
       "       25.5 , 26.59, 21.5 , 20.3 , 21.4 , 24.7 , 18.2 , 16.8 , 24.3 ,\n",
       "       14.  , 18.6 , 23.95, 17.  , 20.63, 13.93, 16.  , 17.8 , 18.5 ,\n",
       "       12.55, 12.99, 14.8 , 13.5 , 26.  , 20.65, 27.3 , 11.36, 17.68,\n",
       "       14.28, 18.53, 14.84, 21.12, 20.36, 21.27, 18.16, 22.  , 25.1 ,\n",
       "       20.51, 21.66, 25.2 , 22.9 , 16.02, 20.54, 22.77, 15.71, 23.1 ,\n",
       "       19.02, 19.81, 16.47, 15.04, 19.1 , 21.79, 18.8 , 21.21, 15.37,\n",
       "       11.79, 19.  , 14.3 , 15.8 , 15.1 , 19.09, 22.32, 21.9 , 14.53,\n",
       "       21.63, 20.85, 20.45, 19.67, 23.01, 20.77, 17.92, 17.01, 22.37,\n",
       "       19.33,  9.5 , 12.83, 22.48, 16.78, 14.67, 15.  , 13.96, 18.  ,\n",
       "       12.07, 26.21, 10.8 , 16.3 , 13.6 , 14.74, 15.6 , 19.56, 22.69,\n",
       "       19.16, 18.12, 12.1 , 17.5 , 42.  , 20.4 , 21.1 , 19.44, 13.  ,\n",
       "       21.43, 22.95, 16.2 , 15.3 , 28.09, 17.4 , 19.4 , 17.6 , 28.4 ,\n",
       "       14.1 , 25.17, 22.74, 17.57, 16.95, 19.49, 17.21, 13.2 , 14.2 ,\n",
       "       26.8 , 25.4 , 11.5 , 27.28, 17.97, 12.8 , 16.55, 12.05, 14.07,\n",
       "       21.02, 11.57, 17.9 , 15.96, 17.1 , 17.19, 21.01, 24.  , 25.6 ,\n",
       "       21.38, 23.84, 23.08, 14.24, 20.71, 15.64, 14.5 , 16.34, 27.39,\n",
       "       11.1 , 13.9 , 20.92, 23.8 , 24.4 , 15.29, 21.19, 22.5 , 19.6 ,\n",
       "       23.65, 25.32, 23.5 , 16.6 , 23.9 , 20.8 , 27.62, 12.9 , 25.44,\n",
       "       17.88, 22.7 , 17.2 , 15.42, 19.68, 18.7 , 15.4 , 19.34, 22.71,\n",
       "       25.8 , 13.7 , 12.2 , 18.49,  9.  ,  0.  , 13.58, 10.1 , 20.5 ,\n",
       "       25.  , 10.5 , 22.07, 22.3 , 15.26, 20.62, 27.4 , 23.2 , 14.4 ,\n",
       "       18.4 , 14.02, 11.  , 20.6 , 22.05, 20.2 , 18.1 , 22.1 , 19.87,\n",
       "       13.01, 18.06, 26.1 , 16.52, 13.55, 24.2 , 25.83, 11.2 , 17.09,\n",
       "       21.03, 17.45, 21.64, 13.87, 19.98, 20.52, 23.57, 11.7 , 17.43,\n",
       "       18.88, 13.68, 11.18, 20.89, 11.8 , 19.62, 21.7 , 14.9 , 19.5 ,\n",
       "       10.91, 15.7 , 20.73, 15.85, 20.7 , 14.23, 16.5 , 17.36, 12.6 ,\n",
       "       16.36, 14.95, 16.9 , 19.2 , 16.96, 22.15, 18.78, 19.61, 17.71,\n",
       "       18.3 , 19.12, 19.72, 12.  , 11.4 , 23.03, 11.07, 15.9 , 17.67,\n",
       "       20.46, 13.1 , 24.8 , 15.73, 15.11, 12.7 , 21.2 , 20.38, 21.56,\n",
       "       13.22, 14.49, 15.05, 23.26, 15.41, 13.8 , 22.27, 14.66, 12.12,\n",
       "       16.84, 14.09, 14.7 , 13.4 , 15.5 , 13.49, 14.6 , 10.75, 24.5 ,\n",
       "       11.74, 16.07, 15.63, 25.47, 17.05, 23.3 , 11.9 , 13.38, 20.86,\n",
       "       10.9 , 18.25, 15.2 , 20.37, 21.8 , 11.96, 24.04, 19.69, 13.73,\n",
       "       21.04, 25.01, 10.93, 24.29, 13.44, 20.07, 19.08, 20.34, 11.68,\n",
       "       12.5 , 12.3 , 23.87, 16.38, 17.42, 10.  , 18.24, 10.71, 19.59,\n",
       "       16.7 , 19.83, 21.76, 16.05, 20.28, 16.25, 16.73, 18.48, 14.99,\n",
       "       18.76, 16.4 , 19.64, 14.94, 17.11, 12.4 , 18.44, 16.09, 12.62,\n",
       "       21.13, 15.17, 21.73, 21.72, 12.85, 14.81, 13.24, 21.49, 14.62,\n",
       "       11.45, 12.08, 15.74, 11.3 , 14.21, 11.72, 16.51])"
      ]
     },
     "execution_count": 11,
     "metadata": {},
     "output_type": "execute_result"
    }
   ],
   "source": [
    "# Extract only numerical values to make visualization\n",
    "\n",
    "df.mileage =  df.mileage.apply(lambda x: get_value(x))\n",
    "df.mileage.unique()"
   ]
  },
  {
   "cell_type": "code",
   "execution_count": 12,
   "id": "40e099c6",
   "metadata": {},
   "outputs": [
    {
     "data": {
      "text/plain": [
       "array(['1248 CC', '1498 CC', '1497 CC', '1396 CC', '1298 CC', '1197 CC',\n",
       "       '796 CC', '1364 CC', '1399 CC', '1461 CC', '993 CC', nan,\n",
       "       '1061 CC', '1198 CC', '1199 CC', '998 CC', '1591 CC', '2179 CC',\n",
       "       '1368 CC', '2982 CC', '2494 CC', '2143 CC', '2477 CC', '1462 CC',\n",
       "       '2755 CC', '1968 CC', '1798 CC', '1196 CC', '1373 CC', '1598 CC',\n",
       "       '1998 CC', '1086 CC', '1194 CC', '1172 CC', '1405 CC', '1582 CC',\n",
       "       '999 CC', '2487 CC', '1999 CC', '3604 CC', '2987 CC', '1995 CC',\n",
       "       '1451 CC', '1969 CC', '2967 CC', '2497 CC', '1797 CC', '1991 CC',\n",
       "       '2362 CC', '1493 CC', '1599 CC', '1341 CC', '1794 CC', '799 CC',\n",
       "       '1193 CC', '2696 CC', '1495 CC', '1186 CC', '1047 CC', '2498 CC',\n",
       "       '2956 CC', '2523 CC', '1120 CC', '624 CC', '1496 CC', '1984 CC',\n",
       "       '2354 CC', '814 CC', '793 CC', '1799 CC', '936 CC', '1956 CC',\n",
       "       '1997 CC', '1499 CC', '1948 CC', '2997 CC', '2489 CC', '2499 CC',\n",
       "       '2609 CC', '2953 CC', '1150 CC', '1994 CC', '1388 CC', '1527 CC',\n",
       "       '2199 CC', '995 CC', '2993 CC', '1586 CC', '1390 CC', '909 CC',\n",
       "       '2393 CC', '3198 CC', '1339 CC', '2835 CC', '2092 CC', '1595 CC',\n",
       "       '2496 CC', '1596 CC', '1597 CC', '2596 CC', '2148 CC', '1299 CC',\n",
       "       '1590 CC', '2231 CC', '2694 CC', '2200 CC', '1795 CC', '1896 CC',\n",
       "       '1796 CC', '1422 CC', '1489 CC', '2359 CC', '2197 CC', '2999 CC',\n",
       "       '1781 CC', '2650 CC', '1343 CC', '2446 CC', '3498 CC', '2198 CC',\n",
       "       '2776 CC', '1950 CC'], dtype=object)"
      ]
     },
     "execution_count": 12,
     "metadata": {},
     "output_type": "execute_result"
    }
   ],
   "source": [
    "# Check the uniques values in engine\n",
    "df.engine.unique()"
   ]
  },
  {
   "cell_type": "code",
   "execution_count": 13,
   "id": "145d6756",
   "metadata": {},
   "outputs": [
    {
     "data": {
      "text/plain": [
       "array([1248., 1498., 1497., 1396., 1298., 1197.,  796., 1364., 1399.,\n",
       "       1461.,  993.,   nan, 1061., 1198., 1199.,  998., 1591., 2179.,\n",
       "       1368., 2982., 2494., 2143., 2477., 1462., 2755., 1968., 1798.,\n",
       "       1196., 1373., 1598., 1998., 1086., 1194., 1172., 1405., 1582.,\n",
       "        999., 2487., 1999., 3604., 2987., 1995., 1451., 1969., 2967.,\n",
       "       2497., 1797., 1991., 2362., 1493., 1599., 1341., 1794.,  799.,\n",
       "       1193., 2696., 1495., 1186., 1047., 2498., 2956., 2523., 1120.,\n",
       "        624., 1496., 1984., 2354.,  814.,  793., 1799.,  936., 1956.,\n",
       "       1997., 1499., 1948., 2997., 2489., 2499., 2609., 2953., 1150.,\n",
       "       1994., 1388., 1527., 2199.,  995., 2993., 1586., 1390.,  909.,\n",
       "       2393., 3198., 1339., 2835., 2092., 1595., 2496., 1596., 1597.,\n",
       "       2596., 2148., 1299., 1590., 2231., 2694., 2200., 1795., 1896.,\n",
       "       1796., 1422., 1489., 2359., 2197., 2999., 1781., 2650., 1343.,\n",
       "       2446., 3498., 2198., 2776., 1950.])"
      ]
     },
     "execution_count": 13,
     "metadata": {},
     "output_type": "execute_result"
    }
   ],
   "source": [
    "# Also extract the numerical values to make visualization\n",
    "df.engine =  df.engine.apply(lambda x: get_value(x))\n",
    "df.engine.unique()"
   ]
  },
  {
   "cell_type": "code",
   "execution_count": 14,
   "id": "434d4ea1",
   "metadata": {},
   "outputs": [
    {
     "data": {
      "text/plain": [
       "array(['74 bhp', '103.52 bhp', '78 bhp', '90 bhp', '88.2 bhp',\n",
       "       '81.86 bhp', '37 bhp', '67.1 bhp', '68.1 bhp', '108.45 bhp',\n",
       "       '60 bhp', '73.9 bhp', nan, '67 bhp', '82 bhp', '88.5 bhp',\n",
       "       '46.3 bhp', '88.73 bhp', '64.1 bhp', '98.6 bhp', '88.8 bhp',\n",
       "       '83.81 bhp', '83.1 bhp', '47.3 bhp', '73.8 bhp', '34.2 bhp',\n",
       "       '35 bhp', '81.83 bhp', '121.3 bhp', '138.03 bhp', '160.77 bhp',\n",
       "       '117.3 bhp', '116.3 bhp', '83.14 bhp', '67.05 bhp', '168.5 bhp',\n",
       "       '100 bhp', '120.7 bhp', '98.63 bhp', '175.56 bhp', '103.25 bhp',\n",
       "       '171.5 bhp', '100.6 bhp', '174.33 bhp', '187.74 bhp', '170 bhp',\n",
       "       '78.9 bhp', '88.76 bhp', '86.8 bhp', '108.495 bhp', '108.62 bhp',\n",
       "       '93.7 bhp', '103.6 bhp', '98.59 bhp', '189 bhp', '67.04 bhp',\n",
       "       '68.05 bhp', '82.85 bhp', '81.80 bhp', '73 bhp', '120 bhp',\n",
       "       '94.68 bhp', '160 bhp', '65 bhp', '155 bhp', '69.01 bhp',\n",
       "       '126.32 bhp', '138.1 bhp', '83.8 bhp', '126.2 bhp', '98.96 bhp',\n",
       "       '62.1 bhp', '86.7 bhp', '188 bhp', '214.56 bhp', '177 bhp',\n",
       "       '280 bhp', '148.31 bhp', '254.79 bhp', '190 bhp', '177.46 bhp',\n",
       "       '204 bhp', '141 bhp', '117.6 bhp', '241.4 bhp', '282 bhp',\n",
       "       '150 bhp', '147.5 bhp', '108.5 bhp', '103.5 bhp', '183 bhp',\n",
       "       '181.04 bhp', '157.7 bhp', '164.7 bhp', '91.1 bhp', '400 bhp',\n",
       "       '68 bhp', '75 bhp', '85.8 bhp', '87.2 bhp', '53 bhp', '118 bhp',\n",
       "       '103.2 bhp', '83 bhp', '84 bhp', '147.94 bhp', '74.02 bhp',\n",
       "       '53.3 bhp', '80 bhp', '88.7 bhp', '97.7 bhp', '121.36 bhp',\n",
       "       '162 bhp', '140 bhp', '94 bhp', '100.57 bhp', '82.9 bhp',\n",
       "       '83.11 bhp', '70 bhp', '153.86 bhp', '121 bhp', '126.3 bhp',\n",
       "       '73.97 bhp', '171 bhp', '69 bhp', '99.6 bhp', '102 bhp', '105 bhp',\n",
       "       '63 bhp', '79.4 bhp', '97.9 bhp', '63.1 bhp', '66.1 bhp',\n",
       "       '110 bhp', '174.5 bhp', '53.26 bhp', '73.75 bhp', '67.06 bhp',\n",
       "       '64.08 bhp', '37.5 bhp', '189.3 bhp', '158.8 bhp', '55.2 bhp',\n",
       "       '71.01 bhp', '73.74 bhp', '147.9 bhp', '71 bhp', '77 bhp',\n",
       "       '121.4 bhp', '113.4 bhp', '47 bhp', '130 bhp', '57.6 bhp',\n",
       "       '138 bhp', '52.8 bhp', '53.64 bhp', '53.5 bhp', '76.8 bhp',\n",
       "       '82.4 bhp', '113.42 bhp', '76 bhp', '84.8 bhp', '0', '56.3 bhp',\n",
       "       '218 bhp', '112 bhp', '92 bhp', '105.5 bhp', '169 bhp', '95 bhp',\n",
       "       '72.4 bhp', '115 bhp', '152 bhp', '91.2 bhp', '156 bhp',\n",
       "       '74.9 bhp', '62 bhp', '105.3 bhp', '73.94 bhp', '85.80 bhp',\n",
       "       '85 bhp', '118.3 bhp', '72 bhp', '147.51 bhp', '58 bhp', '64 bhp',\n",
       "       '126.24 bhp', '76.9 bhp', '194.3 bhp', '99.23 bhp', '89.84 bhp',\n",
       "       '123.7 bhp', '118.35 bhp', '99 bhp', '241 bhp', '136 bhp',\n",
       "       '261.4 bhp', '104.68 bhp', '37.48 bhp', '104 bhp', '88.50 bhp',\n",
       "       '63.12 bhp', '91.7 bhp', '102.5 bhp', '177.6 bhp', '45 bhp',\n",
       "       '123.37 bhp', '147.8 bhp', '184 bhp', '84.48 bhp', '68.07 bhp',\n",
       "       '74.96 bhp', '167.6 bhp', '152.87 bhp', '112.2 bhp', '83.83 bhp',\n",
       "       '197 bhp', '110.4 bhp', '104.55 bhp', '103 bhp', '103.3 bhp',\n",
       "       '66 bhp', '108.6 bhp', '165 bhp', '163.7 bhp', '116.9 bhp',\n",
       "       '94.93 bhp', '127 bhp', '198.5 bhp', '179.5 bhp', '120.69 bhp',\n",
       "       '121.31 bhp', '138.08 bhp', '187.7 bhp', '80.8 bhp', '86.79 bhp',\n",
       "       '93.87 bhp', '116.6 bhp', '143 bhp', '92.7 bhp', '88 bhp',\n",
       "       '78.8 bhp', '64.4 bhp', '125 bhp', '139.01 bhp', '254.8 bhp',\n",
       "       '181 bhp', '258 bhp', '270.9 bhp', '265 bhp', '157.75 bhp',\n",
       "       '101 bhp', '186 bhp', '187.4 bhp', '224 bhp', '64.9 bhp',\n",
       "       '148 bhp', '35.5 bhp', '89.75 bhp', '91.72 bhp', '106 bhp',\n",
       "       '98.97 bhp', '66.6 bhp', '86 bhp', '65.3 bhp', '98.82 bhp',\n",
       "       '198.25 bhp', '38 bhp', '142 bhp', '132 bhp', '174.57 bhp',\n",
       "       '178 bhp', '163.2 bhp', '203.2 bhp', '177.5 bhp', '175 bhp',\n",
       "       '57 bhp', '80.84 bhp', '68.4 bhp', '167.67 bhp', '170.63 bhp',\n",
       "       '52 bhp', '149.5 bhp', '48.21 bhp', '201.1 bhp', '100.5 bhp',\n",
       "       '144 bhp', '194.4 bhp', '168.7 bhp', '104.5 bhp', '103.26 bhp',\n",
       "       '116.4 bhp', '98.79 bhp', '272 bhp', '235 bhp', '167.62 bhp',\n",
       "       '170.30 bhp', '139.46 bhp', '158 bhp', '110.5 bhp', '82.5 bhp',\n",
       "       '141.1 bhp', '197.2 bhp', '161 bhp', '194 bhp', '122.4 bhp',\n",
       "       '134.10 bhp', '134 bhp', '203 bhp', '135.1 bhp'], dtype=object)"
      ]
     },
     "execution_count": 14,
     "metadata": {},
     "output_type": "execute_result"
    }
   ],
   "source": [
    "# Check the uniques values in Max Power\n",
    "df.max_power.unique()"
   ]
  },
  {
   "cell_type": "code",
   "execution_count": 15,
   "id": "f637404d",
   "metadata": {},
   "outputs": [
    {
     "data": {
      "text/plain": [
       "array([ 74.   , 103.52 ,  78.   ,  90.   ,  88.2  ,  81.86 ,  37.   ,\n",
       "        67.1  ,  68.1  , 108.45 ,  60.   ,  73.9  ,     nan,  67.   ,\n",
       "        82.   ,  88.5  ,  46.3  ,  88.73 ,  64.1  ,  98.6  ,  88.8  ,\n",
       "        83.81 ,  83.1  ,  47.3  ,  73.8  ,  34.2  ,  35.   ,  81.83 ,\n",
       "       121.3  , 138.03 , 160.77 , 117.3  , 116.3  ,  83.14 ,  67.05 ,\n",
       "       168.5  , 100.   , 120.7  ,  98.63 , 175.56 , 103.25 , 171.5  ,\n",
       "       100.6  , 174.33 , 187.74 , 170.   ,  78.9  ,  88.76 ,  86.8  ,\n",
       "       108.495, 108.62 ,  93.7  , 103.6  ,  98.59 , 189.   ,  67.04 ,\n",
       "        68.05 ,  82.85 ,  81.8  ,  73.   , 120.   ,  94.68 , 160.   ,\n",
       "        65.   , 155.   ,  69.01 , 126.32 , 138.1  ,  83.8  , 126.2  ,\n",
       "        98.96 ,  62.1  ,  86.7  , 188.   , 214.56 , 177.   , 280.   ,\n",
       "       148.31 , 254.79 , 190.   , 177.46 , 204.   , 141.   , 117.6  ,\n",
       "       241.4  , 282.   , 150.   , 147.5  , 108.5  , 103.5  , 183.   ,\n",
       "       181.04 , 157.7  , 164.7  ,  91.1  , 400.   ,  68.   ,  75.   ,\n",
       "        85.8  ,  87.2  ,  53.   , 118.   , 103.2  ,  83.   ,  84.   ,\n",
       "       147.94 ,  74.02 ,  53.3  ,  80.   ,  88.7  ,  97.7  , 121.36 ,\n",
       "       162.   , 140.   ,  94.   , 100.57 ,  82.9  ,  83.11 ,  70.   ,\n",
       "       153.86 , 121.   , 126.3  ,  73.97 , 171.   ,  69.   ,  99.6  ,\n",
       "       102.   , 105.   ,  63.   ,  79.4  ,  97.9  ,  63.1  ,  66.1  ,\n",
       "       110.   , 174.5  ,  53.26 ,  73.75 ,  67.06 ,  64.08 ,  37.5  ,\n",
       "       189.3  , 158.8  ,  55.2  ,  71.01 ,  73.74 , 147.9  ,  71.   ,\n",
       "        77.   , 121.4  , 113.4  ,  47.   , 130.   ,  57.6  , 138.   ,\n",
       "        52.8  ,  53.64 ,  53.5  ,  76.8  ,  82.4  , 113.42 ,  76.   ,\n",
       "        84.8  ,   0.   ,  56.3  , 218.   , 112.   ,  92.   , 105.5  ,\n",
       "       169.   ,  95.   ,  72.4  , 115.   , 152.   ,  91.2  , 156.   ,\n",
       "        74.9  ,  62.   , 105.3  ,  73.94 ,  85.   , 118.3  ,  72.   ,\n",
       "       147.51 ,  58.   ,  64.   , 126.24 ,  76.9  , 194.3  ,  99.23 ,\n",
       "        89.84 , 123.7  , 118.35 ,  99.   , 241.   , 136.   , 261.4  ,\n",
       "       104.68 ,  37.48 , 104.   ,  63.12 ,  91.7  , 102.5  , 177.6  ,\n",
       "        45.   , 123.37 , 147.8  , 184.   ,  84.48 ,  68.07 ,  74.96 ,\n",
       "       167.6  , 152.87 , 112.2  ,  83.83 , 197.   , 110.4  , 104.55 ,\n",
       "       103.   , 103.3  ,  66.   , 108.6  , 165.   , 163.7  , 116.9  ,\n",
       "        94.93 , 127.   , 198.5  , 179.5  , 120.69 , 121.31 , 138.08 ,\n",
       "       187.7  ,  80.8  ,  86.79 ,  93.87 , 116.6  , 143.   ,  92.7  ,\n",
       "        88.   ,  78.8  ,  64.4  , 125.   , 139.01 , 254.8  , 181.   ,\n",
       "       258.   , 270.9  , 265.   , 157.75 , 101.   , 186.   , 187.4  ,\n",
       "       224.   ,  64.9  , 148.   ,  35.5  ,  89.75 ,  91.72 , 106.   ,\n",
       "        98.97 ,  66.6  ,  86.   ,  65.3  ,  98.82 , 198.25 ,  38.   ,\n",
       "       142.   , 132.   , 174.57 , 178.   , 163.2  , 203.2  , 177.5  ,\n",
       "       175.   ,  57.   ,  80.84 ,  68.4  , 167.67 , 170.63 ,  52.   ,\n",
       "       149.5  ,  48.21 , 201.1  , 100.5  , 144.   , 194.4  , 168.7  ,\n",
       "       104.5  , 103.26 , 116.4  ,  98.79 , 272.   , 235.   , 167.62 ,\n",
       "       170.3  , 139.46 , 158.   , 110.5  ,  82.5  , 141.1  , 197.2  ,\n",
       "       161.   , 194.   , 122.4  , 134.1  , 134.   , 203.   , 135.1  ])"
      ]
     },
     "execution_count": 15,
     "metadata": {},
     "output_type": "execute_result"
    }
   ],
   "source": [
    "# Also extract the numerical values to make visualization\n",
    "df.max_power =  df.max_power.apply(lambda x: get_value(x))\n",
    "df.max_power.unique()"
   ]
  },
  {
   "cell_type": "code",
   "execution_count": 16,
   "id": "9883f5e2",
   "metadata": {
    "scrolled": true
   },
   "outputs": [
    {
     "data": {
      "text/plain": [
       "2018"
      ]
     },
     "execution_count": 16,
     "metadata": {},
     "output_type": "execute_result"
    }
   ],
   "source": [
    "# Check number of unique values in Name column\n",
    "len(df.name.unique())"
   ]
  },
  {
   "cell_type": "code",
   "execution_count": 17,
   "id": "243a035e",
   "metadata": {},
   "outputs": [
    {
     "data": {
      "text/html": [
       "<div>\n",
       "<style scoped>\n",
       "    .dataframe tbody tr th:only-of-type {\n",
       "        vertical-align: middle;\n",
       "    }\n",
       "\n",
       "    .dataframe tbody tr th {\n",
       "        vertical-align: top;\n",
       "    }\n",
       "\n",
       "    .dataframe thead th {\n",
       "        text-align: right;\n",
       "    }\n",
       "</style>\n",
       "<table border=\"1\" class=\"dataframe\">\n",
       "  <thead>\n",
       "    <tr style=\"text-align: right;\">\n",
       "      <th></th>\n",
       "      <th>name</th>\n",
       "      <th>year</th>\n",
       "      <th>selling_price</th>\n",
       "      <th>km_driven</th>\n",
       "      <th>fuel</th>\n",
       "      <th>seller_type</th>\n",
       "      <th>transmission</th>\n",
       "      <th>owner</th>\n",
       "      <th>mileage</th>\n",
       "      <th>engine</th>\n",
       "      <th>max_power</th>\n",
       "      <th>torque</th>\n",
       "      <th>seats</th>\n",
       "    </tr>\n",
       "  </thead>\n",
       "  <tbody>\n",
       "    <tr>\n",
       "      <th>0</th>\n",
       "      <td>Maruti</td>\n",
       "      <td>2014</td>\n",
       "      <td>450000</td>\n",
       "      <td>145500</td>\n",
       "      <td>Diesel</td>\n",
       "      <td>Individual</td>\n",
       "      <td>Manual</td>\n",
       "      <td>1</td>\n",
       "      <td>23.40</td>\n",
       "      <td>1248.0</td>\n",
       "      <td>74.00</td>\n",
       "      <td>190Nm@ 2000rpm</td>\n",
       "      <td>5.0</td>\n",
       "    </tr>\n",
       "    <tr>\n",
       "      <th>1</th>\n",
       "      <td>Skoda</td>\n",
       "      <td>2014</td>\n",
       "      <td>370000</td>\n",
       "      <td>120000</td>\n",
       "      <td>Diesel</td>\n",
       "      <td>Individual</td>\n",
       "      <td>Manual</td>\n",
       "      <td>2</td>\n",
       "      <td>21.14</td>\n",
       "      <td>1498.0</td>\n",
       "      <td>103.52</td>\n",
       "      <td>250Nm@ 1500-2500rpm</td>\n",
       "      <td>5.0</td>\n",
       "    </tr>\n",
       "    <tr>\n",
       "      <th>2</th>\n",
       "      <td>Honda</td>\n",
       "      <td>2006</td>\n",
       "      <td>158000</td>\n",
       "      <td>140000</td>\n",
       "      <td>Petrol</td>\n",
       "      <td>Individual</td>\n",
       "      <td>Manual</td>\n",
       "      <td>3</td>\n",
       "      <td>17.70</td>\n",
       "      <td>1497.0</td>\n",
       "      <td>78.00</td>\n",
       "      <td>12.7@ 2,700(kgm@ rpm)</td>\n",
       "      <td>5.0</td>\n",
       "    </tr>\n",
       "    <tr>\n",
       "      <th>3</th>\n",
       "      <td>Hyundai</td>\n",
       "      <td>2010</td>\n",
       "      <td>225000</td>\n",
       "      <td>127000</td>\n",
       "      <td>Diesel</td>\n",
       "      <td>Individual</td>\n",
       "      <td>Manual</td>\n",
       "      <td>1</td>\n",
       "      <td>23.00</td>\n",
       "      <td>1396.0</td>\n",
       "      <td>90.00</td>\n",
       "      <td>22.4 kgm at 1750-2750rpm</td>\n",
       "      <td>5.0</td>\n",
       "    </tr>\n",
       "    <tr>\n",
       "      <th>4</th>\n",
       "      <td>Maruti</td>\n",
       "      <td>2007</td>\n",
       "      <td>130000</td>\n",
       "      <td>120000</td>\n",
       "      <td>Petrol</td>\n",
       "      <td>Individual</td>\n",
       "      <td>Manual</td>\n",
       "      <td>1</td>\n",
       "      <td>16.10</td>\n",
       "      <td>1298.0</td>\n",
       "      <td>88.20</td>\n",
       "      <td>11.5@ 4,500(kgm@ rpm)</td>\n",
       "      <td>5.0</td>\n",
       "    </tr>\n",
       "    <tr>\n",
       "      <th>...</th>\n",
       "      <td>...</td>\n",
       "      <td>...</td>\n",
       "      <td>...</td>\n",
       "      <td>...</td>\n",
       "      <td>...</td>\n",
       "      <td>...</td>\n",
       "      <td>...</td>\n",
       "      <td>...</td>\n",
       "      <td>...</td>\n",
       "      <td>...</td>\n",
       "      <td>...</td>\n",
       "      <td>...</td>\n",
       "      <td>...</td>\n",
       "    </tr>\n",
       "    <tr>\n",
       "      <th>8123</th>\n",
       "      <td>Hyundai</td>\n",
       "      <td>2013</td>\n",
       "      <td>320000</td>\n",
       "      <td>110000</td>\n",
       "      <td>Petrol</td>\n",
       "      <td>Individual</td>\n",
       "      <td>Manual</td>\n",
       "      <td>1</td>\n",
       "      <td>18.50</td>\n",
       "      <td>1197.0</td>\n",
       "      <td>82.85</td>\n",
       "      <td>113.7Nm@ 4000rpm</td>\n",
       "      <td>5.0</td>\n",
       "    </tr>\n",
       "    <tr>\n",
       "      <th>8124</th>\n",
       "      <td>Hyundai</td>\n",
       "      <td>2007</td>\n",
       "      <td>135000</td>\n",
       "      <td>119000</td>\n",
       "      <td>Diesel</td>\n",
       "      <td>Individual</td>\n",
       "      <td>Manual</td>\n",
       "      <td>4</td>\n",
       "      <td>16.80</td>\n",
       "      <td>1493.0</td>\n",
       "      <td>110.00</td>\n",
       "      <td>24@ 1,900-2,750(kgm@ rpm)</td>\n",
       "      <td>5.0</td>\n",
       "    </tr>\n",
       "    <tr>\n",
       "      <th>8125</th>\n",
       "      <td>Maruti</td>\n",
       "      <td>2009</td>\n",
       "      <td>382000</td>\n",
       "      <td>120000</td>\n",
       "      <td>Diesel</td>\n",
       "      <td>Individual</td>\n",
       "      <td>Manual</td>\n",
       "      <td>1</td>\n",
       "      <td>19.30</td>\n",
       "      <td>1248.0</td>\n",
       "      <td>73.90</td>\n",
       "      <td>190Nm@ 2000rpm</td>\n",
       "      <td>5.0</td>\n",
       "    </tr>\n",
       "    <tr>\n",
       "      <th>8126</th>\n",
       "      <td>Tata</td>\n",
       "      <td>2013</td>\n",
       "      <td>290000</td>\n",
       "      <td>25000</td>\n",
       "      <td>Diesel</td>\n",
       "      <td>Individual</td>\n",
       "      <td>Manual</td>\n",
       "      <td>1</td>\n",
       "      <td>23.57</td>\n",
       "      <td>1396.0</td>\n",
       "      <td>70.00</td>\n",
       "      <td>140Nm@ 1800-3000rpm</td>\n",
       "      <td>5.0</td>\n",
       "    </tr>\n",
       "    <tr>\n",
       "      <th>8127</th>\n",
       "      <td>Tata</td>\n",
       "      <td>2013</td>\n",
       "      <td>290000</td>\n",
       "      <td>25000</td>\n",
       "      <td>Diesel</td>\n",
       "      <td>Individual</td>\n",
       "      <td>Manual</td>\n",
       "      <td>1</td>\n",
       "      <td>23.57</td>\n",
       "      <td>1396.0</td>\n",
       "      <td>70.00</td>\n",
       "      <td>140Nm@ 1800-3000rpm</td>\n",
       "      <td>5.0</td>\n",
       "    </tr>\n",
       "  </tbody>\n",
       "</table>\n",
       "<p>8033 rows × 13 columns</p>\n",
       "</div>"
      ],
      "text/plain": [
       "         name  year  selling_price  km_driven    fuel seller_type  \\\n",
       "0      Maruti  2014         450000     145500  Diesel  Individual   \n",
       "1       Skoda  2014         370000     120000  Diesel  Individual   \n",
       "2       Honda  2006         158000     140000  Petrol  Individual   \n",
       "3     Hyundai  2010         225000     127000  Diesel  Individual   \n",
       "4      Maruti  2007         130000     120000  Petrol  Individual   \n",
       "...       ...   ...            ...        ...     ...         ...   \n",
       "8123  Hyundai  2013         320000     110000  Petrol  Individual   \n",
       "8124  Hyundai  2007         135000     119000  Diesel  Individual   \n",
       "8125   Maruti  2009         382000     120000  Diesel  Individual   \n",
       "8126     Tata  2013         290000      25000  Diesel  Individual   \n",
       "8127     Tata  2013         290000      25000  Diesel  Individual   \n",
       "\n",
       "     transmission  owner  mileage  engine  max_power  \\\n",
       "0          Manual      1    23.40  1248.0      74.00   \n",
       "1          Manual      2    21.14  1498.0     103.52   \n",
       "2          Manual      3    17.70  1497.0      78.00   \n",
       "3          Manual      1    23.00  1396.0      90.00   \n",
       "4          Manual      1    16.10  1298.0      88.20   \n",
       "...           ...    ...      ...     ...        ...   \n",
       "8123       Manual      1    18.50  1197.0      82.85   \n",
       "8124       Manual      4    16.80  1493.0     110.00   \n",
       "8125       Manual      1    19.30  1248.0      73.90   \n",
       "8126       Manual      1    23.57  1396.0      70.00   \n",
       "8127       Manual      1    23.57  1396.0      70.00   \n",
       "\n",
       "                         torque  seats  \n",
       "0                190Nm@ 2000rpm    5.0  \n",
       "1           250Nm@ 1500-2500rpm    5.0  \n",
       "2         12.7@ 2,700(kgm@ rpm)    5.0  \n",
       "3      22.4 kgm at 1750-2750rpm    5.0  \n",
       "4         11.5@ 4,500(kgm@ rpm)    5.0  \n",
       "...                         ...    ...  \n",
       "8123           113.7Nm@ 4000rpm    5.0  \n",
       "8124  24@ 1,900-2,750(kgm@ rpm)    5.0  \n",
       "8125             190Nm@ 2000rpm    5.0  \n",
       "8126        140Nm@ 1800-3000rpm    5.0  \n",
       "8127        140Nm@ 1800-3000rpm    5.0  \n",
       "\n",
       "[8033 rows x 13 columns]"
      ]
     },
     "execution_count": 17,
     "metadata": {},
     "output_type": "execute_result"
    }
   ],
   "source": [
    "# Get the first name to make it clearly the brand name\n",
    "\n",
    "df[\"name\"] = df.name.apply(lambda x: x.split()[0])\n",
    "df"
   ]
  },
  {
   "cell_type": "code",
   "execution_count": 18,
   "id": "d3be5828",
   "metadata": {},
   "outputs": [],
   "source": [
    "# change name to brand\n",
    "df.rename(columns={'name': 'brand'}, inplace=True)"
   ]
  },
  {
   "cell_type": "code",
   "execution_count": 19,
   "id": "71404c5f",
   "metadata": {},
   "outputs": [
    {
     "data": {
      "text/plain": [
       "32"
      ]
     },
     "execution_count": 19,
     "metadata": {},
     "output_type": "execute_result"
    }
   ],
   "source": [
    "# Recheck the number of unique brands\n",
    "len(df.brand.unique())"
   ]
  },
  {
   "cell_type": "code",
   "execution_count": 20,
   "id": "7a5bf501",
   "metadata": {},
   "outputs": [
    {
     "data": {
      "text/html": [
       "<div>\n",
       "<style scoped>\n",
       "    .dataframe tbody tr th:only-of-type {\n",
       "        vertical-align: middle;\n",
       "    }\n",
       "\n",
       "    .dataframe tbody tr th {\n",
       "        vertical-align: top;\n",
       "    }\n",
       "\n",
       "    .dataframe thead th {\n",
       "        text-align: right;\n",
       "    }\n",
       "</style>\n",
       "<table border=\"1\" class=\"dataframe\">\n",
       "  <thead>\n",
       "    <tr style=\"text-align: right;\">\n",
       "      <th></th>\n",
       "      <th>brand</th>\n",
       "      <th>year</th>\n",
       "      <th>selling_price</th>\n",
       "      <th>km_driven</th>\n",
       "      <th>fuel</th>\n",
       "      <th>seller_type</th>\n",
       "      <th>transmission</th>\n",
       "      <th>owner</th>\n",
       "      <th>mileage</th>\n",
       "      <th>engine</th>\n",
       "      <th>max_power</th>\n",
       "      <th>seats</th>\n",
       "    </tr>\n",
       "  </thead>\n",
       "  <tbody>\n",
       "    <tr>\n",
       "      <th>0</th>\n",
       "      <td>Maruti</td>\n",
       "      <td>2014</td>\n",
       "      <td>450000</td>\n",
       "      <td>145500</td>\n",
       "      <td>Diesel</td>\n",
       "      <td>Individual</td>\n",
       "      <td>Manual</td>\n",
       "      <td>1</td>\n",
       "      <td>23.40</td>\n",
       "      <td>1248.0</td>\n",
       "      <td>74.00</td>\n",
       "      <td>5.0</td>\n",
       "    </tr>\n",
       "    <tr>\n",
       "      <th>1</th>\n",
       "      <td>Skoda</td>\n",
       "      <td>2014</td>\n",
       "      <td>370000</td>\n",
       "      <td>120000</td>\n",
       "      <td>Diesel</td>\n",
       "      <td>Individual</td>\n",
       "      <td>Manual</td>\n",
       "      <td>2</td>\n",
       "      <td>21.14</td>\n",
       "      <td>1498.0</td>\n",
       "      <td>103.52</td>\n",
       "      <td>5.0</td>\n",
       "    </tr>\n",
       "    <tr>\n",
       "      <th>2</th>\n",
       "      <td>Honda</td>\n",
       "      <td>2006</td>\n",
       "      <td>158000</td>\n",
       "      <td>140000</td>\n",
       "      <td>Petrol</td>\n",
       "      <td>Individual</td>\n",
       "      <td>Manual</td>\n",
       "      <td>3</td>\n",
       "      <td>17.70</td>\n",
       "      <td>1497.0</td>\n",
       "      <td>78.00</td>\n",
       "      <td>5.0</td>\n",
       "    </tr>\n",
       "    <tr>\n",
       "      <th>3</th>\n",
       "      <td>Hyundai</td>\n",
       "      <td>2010</td>\n",
       "      <td>225000</td>\n",
       "      <td>127000</td>\n",
       "      <td>Diesel</td>\n",
       "      <td>Individual</td>\n",
       "      <td>Manual</td>\n",
       "      <td>1</td>\n",
       "      <td>23.00</td>\n",
       "      <td>1396.0</td>\n",
       "      <td>90.00</td>\n",
       "      <td>5.0</td>\n",
       "    </tr>\n",
       "    <tr>\n",
       "      <th>4</th>\n",
       "      <td>Maruti</td>\n",
       "      <td>2007</td>\n",
       "      <td>130000</td>\n",
       "      <td>120000</td>\n",
       "      <td>Petrol</td>\n",
       "      <td>Individual</td>\n",
       "      <td>Manual</td>\n",
       "      <td>1</td>\n",
       "      <td>16.10</td>\n",
       "      <td>1298.0</td>\n",
       "      <td>88.20</td>\n",
       "      <td>5.0</td>\n",
       "    </tr>\n",
       "    <tr>\n",
       "      <th>...</th>\n",
       "      <td>...</td>\n",
       "      <td>...</td>\n",
       "      <td>...</td>\n",
       "      <td>...</td>\n",
       "      <td>...</td>\n",
       "      <td>...</td>\n",
       "      <td>...</td>\n",
       "      <td>...</td>\n",
       "      <td>...</td>\n",
       "      <td>...</td>\n",
       "      <td>...</td>\n",
       "      <td>...</td>\n",
       "    </tr>\n",
       "    <tr>\n",
       "      <th>8123</th>\n",
       "      <td>Hyundai</td>\n",
       "      <td>2013</td>\n",
       "      <td>320000</td>\n",
       "      <td>110000</td>\n",
       "      <td>Petrol</td>\n",
       "      <td>Individual</td>\n",
       "      <td>Manual</td>\n",
       "      <td>1</td>\n",
       "      <td>18.50</td>\n",
       "      <td>1197.0</td>\n",
       "      <td>82.85</td>\n",
       "      <td>5.0</td>\n",
       "    </tr>\n",
       "    <tr>\n",
       "      <th>8124</th>\n",
       "      <td>Hyundai</td>\n",
       "      <td>2007</td>\n",
       "      <td>135000</td>\n",
       "      <td>119000</td>\n",
       "      <td>Diesel</td>\n",
       "      <td>Individual</td>\n",
       "      <td>Manual</td>\n",
       "      <td>4</td>\n",
       "      <td>16.80</td>\n",
       "      <td>1493.0</td>\n",
       "      <td>110.00</td>\n",
       "      <td>5.0</td>\n",
       "    </tr>\n",
       "    <tr>\n",
       "      <th>8125</th>\n",
       "      <td>Maruti</td>\n",
       "      <td>2009</td>\n",
       "      <td>382000</td>\n",
       "      <td>120000</td>\n",
       "      <td>Diesel</td>\n",
       "      <td>Individual</td>\n",
       "      <td>Manual</td>\n",
       "      <td>1</td>\n",
       "      <td>19.30</td>\n",
       "      <td>1248.0</td>\n",
       "      <td>73.90</td>\n",
       "      <td>5.0</td>\n",
       "    </tr>\n",
       "    <tr>\n",
       "      <th>8126</th>\n",
       "      <td>Tata</td>\n",
       "      <td>2013</td>\n",
       "      <td>290000</td>\n",
       "      <td>25000</td>\n",
       "      <td>Diesel</td>\n",
       "      <td>Individual</td>\n",
       "      <td>Manual</td>\n",
       "      <td>1</td>\n",
       "      <td>23.57</td>\n",
       "      <td>1396.0</td>\n",
       "      <td>70.00</td>\n",
       "      <td>5.0</td>\n",
       "    </tr>\n",
       "    <tr>\n",
       "      <th>8127</th>\n",
       "      <td>Tata</td>\n",
       "      <td>2013</td>\n",
       "      <td>290000</td>\n",
       "      <td>25000</td>\n",
       "      <td>Diesel</td>\n",
       "      <td>Individual</td>\n",
       "      <td>Manual</td>\n",
       "      <td>1</td>\n",
       "      <td>23.57</td>\n",
       "      <td>1396.0</td>\n",
       "      <td>70.00</td>\n",
       "      <td>5.0</td>\n",
       "    </tr>\n",
       "  </tbody>\n",
       "</table>\n",
       "<p>8033 rows × 12 columns</p>\n",
       "</div>"
      ],
      "text/plain": [
       "        brand  year  selling_price  km_driven    fuel seller_type  \\\n",
       "0      Maruti  2014         450000     145500  Diesel  Individual   \n",
       "1       Skoda  2014         370000     120000  Diesel  Individual   \n",
       "2       Honda  2006         158000     140000  Petrol  Individual   \n",
       "3     Hyundai  2010         225000     127000  Diesel  Individual   \n",
       "4      Maruti  2007         130000     120000  Petrol  Individual   \n",
       "...       ...   ...            ...        ...     ...         ...   \n",
       "8123  Hyundai  2013         320000     110000  Petrol  Individual   \n",
       "8124  Hyundai  2007         135000     119000  Diesel  Individual   \n",
       "8125   Maruti  2009         382000     120000  Diesel  Individual   \n",
       "8126     Tata  2013         290000      25000  Diesel  Individual   \n",
       "8127     Tata  2013         290000      25000  Diesel  Individual   \n",
       "\n",
       "     transmission  owner  mileage  engine  max_power  seats  \n",
       "0          Manual      1    23.40  1248.0      74.00    5.0  \n",
       "1          Manual      2    21.14  1498.0     103.52    5.0  \n",
       "2          Manual      3    17.70  1497.0      78.00    5.0  \n",
       "3          Manual      1    23.00  1396.0      90.00    5.0  \n",
       "4          Manual      1    16.10  1298.0      88.20    5.0  \n",
       "...           ...    ...      ...     ...        ...    ...  \n",
       "8123       Manual      1    18.50  1197.0      82.85    5.0  \n",
       "8124       Manual      4    16.80  1493.0     110.00    5.0  \n",
       "8125       Manual      1    19.30  1248.0      73.90    5.0  \n",
       "8126       Manual      1    23.57  1396.0      70.00    5.0  \n",
       "8127       Manual      1    23.57  1396.0      70.00    5.0  \n",
       "\n",
       "[8033 rows x 12 columns]"
      ]
     },
     "execution_count": 20,
     "metadata": {},
     "output_type": "execute_result"
    }
   ],
   "source": [
    "# Torque is a very complex column so drop it \n",
    "\n",
    "df.drop(columns=[\"torque\"], axis=1, inplace=True)\n",
    "df"
   ]
  },
  {
   "cell_type": "code",
   "execution_count": 21,
   "id": "adf26848",
   "metadata": {},
   "outputs": [
    {
     "data": {
      "text/html": [
       "<div>\n",
       "<style scoped>\n",
       "    .dataframe tbody tr th:only-of-type {\n",
       "        vertical-align: middle;\n",
       "    }\n",
       "\n",
       "    .dataframe tbody tr th {\n",
       "        vertical-align: top;\n",
       "    }\n",
       "\n",
       "    .dataframe thead th {\n",
       "        text-align: right;\n",
       "    }\n",
       "</style>\n",
       "<table border=\"1\" class=\"dataframe\">\n",
       "  <thead>\n",
       "    <tr style=\"text-align: right;\">\n",
       "      <th></th>\n",
       "      <th>brand</th>\n",
       "      <th>year</th>\n",
       "      <th>selling_price</th>\n",
       "      <th>km_driven</th>\n",
       "      <th>fuel</th>\n",
       "      <th>seller_type</th>\n",
       "      <th>transmission</th>\n",
       "      <th>owner</th>\n",
       "      <th>mileage</th>\n",
       "      <th>engine</th>\n",
       "      <th>max_power</th>\n",
       "      <th>seats</th>\n",
       "    </tr>\n",
       "  </thead>\n",
       "  <tbody>\n",
       "    <tr>\n",
       "      <th>0</th>\n",
       "      <td>Maruti</td>\n",
       "      <td>2014</td>\n",
       "      <td>450000</td>\n",
       "      <td>145500</td>\n",
       "      <td>Diesel</td>\n",
       "      <td>Individual</td>\n",
       "      <td>Manual</td>\n",
       "      <td>1</td>\n",
       "      <td>23.40</td>\n",
       "      <td>1248.0</td>\n",
       "      <td>74.00</td>\n",
       "      <td>5.0</td>\n",
       "    </tr>\n",
       "    <tr>\n",
       "      <th>1</th>\n",
       "      <td>Skoda</td>\n",
       "      <td>2014</td>\n",
       "      <td>370000</td>\n",
       "      <td>120000</td>\n",
       "      <td>Diesel</td>\n",
       "      <td>Individual</td>\n",
       "      <td>Manual</td>\n",
       "      <td>2</td>\n",
       "      <td>21.14</td>\n",
       "      <td>1498.0</td>\n",
       "      <td>103.52</td>\n",
       "      <td>5.0</td>\n",
       "    </tr>\n",
       "    <tr>\n",
       "      <th>2</th>\n",
       "      <td>Honda</td>\n",
       "      <td>2006</td>\n",
       "      <td>158000</td>\n",
       "      <td>140000</td>\n",
       "      <td>Petrol</td>\n",
       "      <td>Individual</td>\n",
       "      <td>Manual</td>\n",
       "      <td>3</td>\n",
       "      <td>17.70</td>\n",
       "      <td>1497.0</td>\n",
       "      <td>78.00</td>\n",
       "      <td>5.0</td>\n",
       "    </tr>\n",
       "    <tr>\n",
       "      <th>3</th>\n",
       "      <td>Hyundai</td>\n",
       "      <td>2010</td>\n",
       "      <td>225000</td>\n",
       "      <td>127000</td>\n",
       "      <td>Diesel</td>\n",
       "      <td>Individual</td>\n",
       "      <td>Manual</td>\n",
       "      <td>1</td>\n",
       "      <td>23.00</td>\n",
       "      <td>1396.0</td>\n",
       "      <td>90.00</td>\n",
       "      <td>5.0</td>\n",
       "    </tr>\n",
       "    <tr>\n",
       "      <th>4</th>\n",
       "      <td>Maruti</td>\n",
       "      <td>2007</td>\n",
       "      <td>130000</td>\n",
       "      <td>120000</td>\n",
       "      <td>Petrol</td>\n",
       "      <td>Individual</td>\n",
       "      <td>Manual</td>\n",
       "      <td>1</td>\n",
       "      <td>16.10</td>\n",
       "      <td>1298.0</td>\n",
       "      <td>88.20</td>\n",
       "      <td>5.0</td>\n",
       "    </tr>\n",
       "    <tr>\n",
       "      <th>...</th>\n",
       "      <td>...</td>\n",
       "      <td>...</td>\n",
       "      <td>...</td>\n",
       "      <td>...</td>\n",
       "      <td>...</td>\n",
       "      <td>...</td>\n",
       "      <td>...</td>\n",
       "      <td>...</td>\n",
       "      <td>...</td>\n",
       "      <td>...</td>\n",
       "      <td>...</td>\n",
       "      <td>...</td>\n",
       "    </tr>\n",
       "    <tr>\n",
       "      <th>8123</th>\n",
       "      <td>Hyundai</td>\n",
       "      <td>2013</td>\n",
       "      <td>320000</td>\n",
       "      <td>110000</td>\n",
       "      <td>Petrol</td>\n",
       "      <td>Individual</td>\n",
       "      <td>Manual</td>\n",
       "      <td>1</td>\n",
       "      <td>18.50</td>\n",
       "      <td>1197.0</td>\n",
       "      <td>82.85</td>\n",
       "      <td>5.0</td>\n",
       "    </tr>\n",
       "    <tr>\n",
       "      <th>8124</th>\n",
       "      <td>Hyundai</td>\n",
       "      <td>2007</td>\n",
       "      <td>135000</td>\n",
       "      <td>119000</td>\n",
       "      <td>Diesel</td>\n",
       "      <td>Individual</td>\n",
       "      <td>Manual</td>\n",
       "      <td>4</td>\n",
       "      <td>16.80</td>\n",
       "      <td>1493.0</td>\n",
       "      <td>110.00</td>\n",
       "      <td>5.0</td>\n",
       "    </tr>\n",
       "    <tr>\n",
       "      <th>8125</th>\n",
       "      <td>Maruti</td>\n",
       "      <td>2009</td>\n",
       "      <td>382000</td>\n",
       "      <td>120000</td>\n",
       "      <td>Diesel</td>\n",
       "      <td>Individual</td>\n",
       "      <td>Manual</td>\n",
       "      <td>1</td>\n",
       "      <td>19.30</td>\n",
       "      <td>1248.0</td>\n",
       "      <td>73.90</td>\n",
       "      <td>5.0</td>\n",
       "    </tr>\n",
       "    <tr>\n",
       "      <th>8126</th>\n",
       "      <td>Tata</td>\n",
       "      <td>2013</td>\n",
       "      <td>290000</td>\n",
       "      <td>25000</td>\n",
       "      <td>Diesel</td>\n",
       "      <td>Individual</td>\n",
       "      <td>Manual</td>\n",
       "      <td>1</td>\n",
       "      <td>23.57</td>\n",
       "      <td>1396.0</td>\n",
       "      <td>70.00</td>\n",
       "      <td>5.0</td>\n",
       "    </tr>\n",
       "    <tr>\n",
       "      <th>8127</th>\n",
       "      <td>Tata</td>\n",
       "      <td>2013</td>\n",
       "      <td>290000</td>\n",
       "      <td>25000</td>\n",
       "      <td>Diesel</td>\n",
       "      <td>Individual</td>\n",
       "      <td>Manual</td>\n",
       "      <td>1</td>\n",
       "      <td>23.57</td>\n",
       "      <td>1396.0</td>\n",
       "      <td>70.00</td>\n",
       "      <td>5.0</td>\n",
       "    </tr>\n",
       "  </tbody>\n",
       "</table>\n",
       "<p>8028 rows × 12 columns</p>\n",
       "</div>"
      ],
      "text/plain": [
       "        brand  year  selling_price  km_driven    fuel seller_type  \\\n",
       "0      Maruti  2014         450000     145500  Diesel  Individual   \n",
       "1       Skoda  2014         370000     120000  Diesel  Individual   \n",
       "2       Honda  2006         158000     140000  Petrol  Individual   \n",
       "3     Hyundai  2010         225000     127000  Diesel  Individual   \n",
       "4      Maruti  2007         130000     120000  Petrol  Individual   \n",
       "...       ...   ...            ...        ...     ...         ...   \n",
       "8123  Hyundai  2013         320000     110000  Petrol  Individual   \n",
       "8124  Hyundai  2007         135000     119000  Diesel  Individual   \n",
       "8125   Maruti  2009         382000     120000  Diesel  Individual   \n",
       "8126     Tata  2013         290000      25000  Diesel  Individual   \n",
       "8127     Tata  2013         290000      25000  Diesel  Individual   \n",
       "\n",
       "     transmission  owner  mileage  engine  max_power  seats  \n",
       "0          Manual      1    23.40  1248.0      74.00    5.0  \n",
       "1          Manual      2    21.14  1498.0     103.52    5.0  \n",
       "2          Manual      3    17.70  1497.0      78.00    5.0  \n",
       "3          Manual      1    23.00  1396.0      90.00    5.0  \n",
       "4          Manual      1    16.10  1298.0      88.20    5.0  \n",
       "...           ...    ...      ...     ...        ...    ...  \n",
       "8123       Manual      1    18.50  1197.0      82.85    5.0  \n",
       "8124       Manual      4    16.80  1493.0     110.00    5.0  \n",
       "8125       Manual      1    19.30  1248.0      73.90    5.0  \n",
       "8126       Manual      1    23.57  1396.0      70.00    5.0  \n",
       "8127       Manual      1    23.57  1396.0      70.00    5.0  \n",
       "\n",
       "[8028 rows x 12 columns]"
      ]
     },
     "execution_count": 21,
     "metadata": {},
     "output_type": "execute_result"
    }
   ],
   "source": [
    "# Drop the test driving cars from the Dataframe\n",
    "df = df[df.owner != 5]\n",
    "df"
   ]
  },
  {
   "cell_type": "markdown",
   "id": "b25be71a",
   "metadata": {},
   "source": [
    "## 2.2 Label Encoding"
   ]
  },
  {
   "cell_type": "code",
   "execution_count": 22,
   "id": "1ae59109",
   "metadata": {},
   "outputs": [],
   "source": [
    "# Fuel, seller type and transmission are need to be encoded for visualization and training\n",
    "\n",
    "from sklearn.preprocessing import LabelEncoder\n",
    "\n",
    "fuel_encoder = LabelEncoder()\n",
    "seller_encoder = LabelEncoder()\n",
    "transmission_encoder = LabelEncoder()"
   ]
  },
  {
   "cell_type": "code",
   "execution_count": 23,
   "id": "f7b96f11",
   "metadata": {},
   "outputs": [],
   "source": [
    "df[\"fuel\"] = fuel_encoder.fit_transform(df[\"fuel\"])\n",
    "df[\"seller_type\"] = seller_encoder.fit_transform(df[\"seller_type\"])\n",
    "df[\"transmission\"] = transmission_encoder.fit_transform(df[\"transmission\"])"
   ]
  },
  {
   "cell_type": "code",
   "execution_count": 24,
   "id": "cd2c9512",
   "metadata": {},
   "outputs": [
    {
     "name": "stdout",
     "output_type": "stream",
     "text": [
      "['Diesel' 'Petrol']\n",
      "['Dealer' 'Individual' 'Trustmark Dealer']\n",
      "['Automatic' 'Manual']\n"
     ]
    }
   ],
   "source": [
    "print(fuel_encoder.classes_)\n",
    "print(seller_encoder.classes_)\n",
    "print(transmission_encoder.classes_)"
   ]
  },
  {
   "cell_type": "code",
   "execution_count": 25,
   "id": "b049ab52",
   "metadata": {},
   "outputs": [
    {
     "name": "stdout",
     "output_type": "stream",
     "text": [
      "[0 1]\n",
      "[1 0 2]\n",
      "[1 0]\n"
     ]
    }
   ],
   "source": [
    "print(df[\"fuel\"].unique())\n",
    "print(df[\"seller_type\"].unique())\n",
    "print(df[\"transmission\"].unique())"
   ]
  },
  {
   "cell_type": "markdown",
   "id": "dfd5a7fc",
   "metadata": {},
   "source": [
    "## 2.3 Univariate analyis"
   ]
  },
  {
   "cell_type": "code",
   "execution_count": 26,
   "id": "97aa9316",
   "metadata": {
    "scrolled": true
   },
   "outputs": [
    {
     "data": {
      "image/png": "[encoded data removed]",
      "text/plain": [
       "<Figure size 1600x800 with 1 Axes>"
      ]
     },
     "metadata": {},
     "output_type": "display_data"
    }
   ],
   "source": [
    "# By the graph, most are the first owner's cars\n",
    "plt.figure(figsize=(16, 8))\n",
    "sns.countplot(data = df, x = 'owner')\n",
    "plt.xticks(ticks=[0, 1, 2, 3], labels=[\"First Owner\", \"Second Owner\", \"Third Owner\", \"Fourth & Above Owner\"])\n",
    "plt.show()"
   ]
  },
  {
   "cell_type": "code",
   "execution_count": 27,
   "id": "f69695ef",
   "metadata": {},
   "outputs": [
    {
     "data": {
      "text/plain": [
       "count    7814.000000\n",
       "mean     1462.914640\n",
       "std       504.759742\n",
       "min       624.000000\n",
       "25%      1197.000000\n",
       "50%      1248.000000\n",
       "75%      1582.000000\n",
       "max      3604.000000\n",
       "Name: engine, dtype: float64"
      ]
     },
     "execution_count": 27,
     "metadata": {},
     "output_type": "execute_result"
    },
    {
     "data": {
      "image/png": "[encoded data removed]",
      "text/plain": [
       "<Figure size 500x500 with 1 Axes>"
      ]
     },
     "metadata": {},
     "output_type": "display_data"
    }
   ],
   "source": [
    "# Lower engine powers are mostly in count\n",
    "\n",
    "sns.displot(data = df, x = 'engine')\n",
    "df[\"engine\"].describe()"
   ]
  },
  {
   "cell_type": "code",
   "execution_count": 28,
   "id": "d2efc6ca",
   "metadata": {},
   "outputs": [
    {
     "data": {
      "text/plain": [
       "count    7820.000000\n",
       "mean       91.819726\n",
       "std        35.804513\n",
       "min         0.000000\n",
       "25%        68.850000\n",
       "50%        82.400000\n",
       "75%       102.000000\n",
       "max       400.000000\n",
       "Name: max_power, dtype: float64"
      ]
     },
     "execution_count": 28,
     "metadata": {},
     "output_type": "execute_result"
    },
    {
     "data": {
      "image/png": "[encoded data removed]",
      "text/plain": [
       "<Figure size 500x500 with 1 Axes>"
      ]
     },
     "metadata": {},
     "output_type": "display_data"
    }
   ],
   "source": [
    "# Max power is normally distributed\n",
    "\n",
    "sns.displot(data = df, x = 'max_power')\n",
    "df[\"max_power\"].describe()"
   ]
  },
  {
   "cell_type": "code",
   "execution_count": 29,
   "id": "ef71987b",
   "metadata": {},
   "outputs": [
    {
     "data": {
      "image/png": "[encoded data removed]",
      "text/plain": [
       "<Figure size 640x480 with 1 Axes>"
      ]
     },
     "metadata": {},
     "output_type": "display_data"
    }
   ],
   "source": [
    "# Disel cars are slightly more than Petrol cars\n",
    "\n",
    "sns.countplot(data = df, x = \"fuel\")\n",
    "plt.xticks(ticks=[0, 1], labels=['Diesel', 'Petrol'])\n",
    "plt.show()"
   ]
  },
  {
   "cell_type": "code",
   "execution_count": 30,
   "id": "6d631ff9",
   "metadata": {},
   "outputs": [
    {
     "data": {
      "image/png": "[encoded data removed]",
      "text/plain": [
       "<Figure size 640x480 with 1 Axes>"
      ]
     },
     "metadata": {},
     "output_type": "display_data"
    }
   ],
   "source": [
    "# Auto cars are mostly in the dataframe\n",
    "sns.countplot(data = df, x = \"transmission\")\n",
    "plt.xticks(ticks=[0, 1], labels=['Manual', 'Automatic'])\n",
    "plt.show()"
   ]
  },
  {
   "cell_type": "code",
   "execution_count": 31,
   "id": "822f50b0",
   "metadata": {},
   "outputs": [
    {
     "data": {
      "image/png": "[encoded data removed]",
      "text/plain": [
       "<Figure size 640x480 with 1 Axes>"
      ]
     },
     "metadata": {},
     "output_type": "display_data"
    }
   ],
   "source": [
    "# Most cars are sold by dealers\n",
    "\n",
    "sns.countplot(data = df, x = \"seller_type\")\n",
    "plt.xticks(ticks=[0, 1, 2], labels=['Individual', 'Dealer', 'Trustmark Dealer'])\n",
    "plt.show()"
   ]
  },
  {
   "cell_type": "markdown",
   "id": "d986c1c4",
   "metadata": {},
   "source": [
    "## 2.4 Multivariate analysis"
   ]
  },
  {
   "cell_type": "code",
   "execution_count": 32,
   "id": "f9f1b075",
   "metadata": {},
   "outputs": [
    {
     "data": {
      "image/png": "[encoded data removed]",
      "text/plain": [
       "<Figure size 640x480 with 1 Axes>"
      ]
     },
     "metadata": {},
     "output_type": "display_data"
    }
   ],
   "source": [
    "# Selling price is significantly high for Disel and first owner\n",
    "\n",
    "sns.barplot(data=df, x='fuel', y='selling_price', hue=\"owner\")\n",
    "handles, labels = plt.gca().get_legend_handles_labels()\n",
    "plt.legend(handles, [\"First Owner\", \"Second Owner\", \"Third Owner\", \"Fourth & Above Owner\"] , title=\"Owner\")\n",
    "plt.xticks(ticks=[0, 1], labels=['Diesel', 'Petrol'])\n",
    "plt.show()"
   ]
  },
  {
   "cell_type": "code",
   "execution_count": 33,
   "id": "79fe8c36",
   "metadata": {},
   "outputs": [
    {
     "data": {
      "image/png": "[encoded data removed]",
      "text/plain": [
       "<Figure size 640x480 with 1 Axes>"
      ]
     },
     "metadata": {},
     "output_type": "display_data"
    }
   ],
   "source": [
    "# Manual Cars are high selling price\n",
    "\n",
    "sns.barplot(data=df, x='transmission', y='selling_price')\n",
    "plt.xticks(ticks=[0, 1], labels=['Manual', 'Automatic'])\n",
    "plt.show()"
   ]
  },
  {
   "cell_type": "code",
   "execution_count": 34,
   "id": "ae59b003",
   "metadata": {},
   "outputs": [
    {
     "data": {
      "image/png": "[encoded data removed]",
      "text/plain": [
       "<Figure size 640x480 with 1 Axes>"
      ]
     },
     "metadata": {},
     "output_type": "display_data"
    }
   ],
   "source": [
    "# Selling price is high when sold by individual\n",
    "\n",
    "sns.barplot(data=df, x='seller_type', y='selling_price')\n",
    "plt.xticks(ticks=[0, 1, 2], labels=['Individual', 'Dealer', 'Trustmark Dealer'])\n",
    "plt.show()"
   ]
  },
  {
   "cell_type": "code",
   "execution_count": 35,
   "id": "778049c9",
   "metadata": {},
   "outputs": [
    {
     "data": {
      "image/png": "[encoded data removed]",
      "text/plain": [
       "<Figure size 640x480 with 1 Axes>"
      ]
     },
     "metadata": {},
     "output_type": "display_data"
    }
   ],
   "source": [
    "# Seems like Diesel cars are high selling price but there are some outliers on Petrol\n",
    "sns.boxplot(x='fuel', y='selling_price', data=df)\n",
    "plt.xticks(ticks=[0, 1], labels=['Diesel', 'Petrol'])\n",
    "plt.show()"
   ]
  },
  {
   "cell_type": "code",
   "execution_count": 36,
   "id": "058317d7",
   "metadata": {},
   "outputs": [
    {
     "data": {
      "text/plain": [
       "<matplotlib.legend.Legend at 0x1dccd0ab4f0>"
      ]
     },
     "execution_count": 36,
     "metadata": {},
     "output_type": "execute_result"
    },
    {
     "data": {
      "image/png": "[encoded data removed]",
      "text/plain": [
       "<Figure size 640x480 with 1 Axes>"
      ]
     },
     "metadata": {},
     "output_type": "display_data"
    }
   ],
   "source": [
    "# Lesser the mileage, higher the selling price\n",
    "\n",
    "sns.scatterplot(data=df, x=\"selling_price\", y=\"mileage\", hue=\"fuel\")\n",
    "handles, labels = plt.gca().get_legend_handles_labels()\n",
    "plt.legend(handles, ['Diesel', 'Petrol'] , title=\"Fuel\")"
   ]
  },
  {
   "cell_type": "code",
   "execution_count": 37,
   "id": "ed793d1e",
   "metadata": {
    "scrolled": true
   },
   "outputs": [
    {
     "data": {
      "text/plain": [
       "<Axes: >"
      ]
     },
     "execution_count": 37,
     "metadata": {},
     "output_type": "execute_result"
    },
    {
     "data": {
      "image/png": "[encoded data removed]",
      "text/plain": [
       "<Figure size 1500x800 with 2 Axes>"
      ]
     },
     "metadata": {},
     "output_type": "display_data"
    }
   ],
   "source": [
    "# Max power, engine, year have positively correlated with selling price\n",
    "# But transmission has negatively correlated \n",
    "\n",
    "plt.figure(figsize = (15,8))\n",
    "sns.heatmap(df.corr(numeric_only=True), annot=True, cmap=\"coolwarm\")"
   ]
  },
  {
   "cell_type": "code",
   "execution_count": 38,
   "id": "d7cfd3bd",
   "metadata": {},
   "outputs": [
    {
     "data": {
      "text/plain": [
       "<Axes: xlabel='x', ylabel='y'>"
      ]
     },
     "execution_count": 38,
     "metadata": {},
     "output_type": "execute_result"
    },
    {
     "data": {
      "image/png": "[encoded data removed]",
      "text/plain": [
       "<Figure size 2000x1600 with 2 Axes>"
      ]
     },
     "metadata": {},
     "output_type": "display_data"
    }
   ],
   "source": [
    "import ppscore as pps\n",
    "\n",
    "df_copy = df.copy()\n",
    "matrix_df = pps.matrix(df_copy)[[\"x\", \"y\", \"ppscore\"]].pivot(columns=\"x\", index=\"y\", values=\"ppscore\")\n",
    "plt.figure(figsize=(20, 16))\n",
    "sns.heatmap(matrix_df, annot=True, cmap=\"coolwarm\")"
   ]
  },
  {
   "cell_type": "markdown",
   "id": "cadc6c29",
   "metadata": {},
   "source": [
    "# 3. Feature Selection"
   ]
  },
  {
   "cell_type": "code",
   "execution_count": 40,
   "id": "633b8f21",
   "metadata": {},
   "outputs": [],
   "source": [
    "X = df[['year', \"max_power\"]]\n",
    "y = df[\"selling_price\"]"
   ]
  },
  {
   "cell_type": "markdown",
   "id": "9ea328b1",
   "metadata": {},
   "source": [
    "## 3.1. Data Bucketing"
   ]
  },
  {
   "cell_type": "code",
   "execution_count": 41,
   "id": "ae586068",
   "metadata": {},
   "outputs": [
    {
     "name": "stdout",
     "output_type": "stream",
     "text": [
      "Price Ranges:\n",
      "(20028.999, 2522499.25]     7732\n",
      "(2522499.25, 5014999.5]      182\n",
      "(5014999.5, 7507499.75]      113\n",
      "(7507499.75, 10000000.0]       1\n",
      "Name: selling_price, dtype: int64\n"
     ]
    }
   ],
   "source": [
    "price_ranges = pd.cut(y, bins=4)\n",
    "\n",
    "print(\"Price Ranges:\")\n",
    "print(price_ranges.value_counts())"
   ]
  },
  {
   "cell_type": "code",
   "execution_count": 42,
   "id": "d42fa5f4",
   "metadata": {},
   "outputs": [
    {
     "data": {
      "text/plain": [
       "0       0\n",
       "1       0\n",
       "2       0\n",
       "3       0\n",
       "4       0\n",
       "       ..\n",
       "8123    0\n",
       "8124    0\n",
       "8125    0\n",
       "8126    0\n",
       "8127    0\n",
       "Name: selling_price, Length: 8028, dtype: int64"
      ]
     },
     "execution_count": 42,
     "metadata": {},
     "output_type": "execute_result"
    }
   ],
   "source": [
    "y = pd.cut(y, bins=4, labels=False)\n",
    "y"
   ]
  },
  {
   "cell_type": "code",
   "execution_count": 43,
   "id": "52372f03",
   "metadata": {},
   "outputs": [
    {
     "data": {
      "text/plain": [
       "array([0, 1, 2, 3], dtype=int64)"
      ]
     },
     "execution_count": 43,
     "metadata": {},
     "output_type": "execute_result"
    }
   ],
   "source": [
    "y.unique()"
   ]
  },
  {
   "cell_type": "code",
   "execution_count": 44,
   "id": "e0cbbad6",
   "metadata": {},
   "outputs": [
    {
     "data": {
      "text/plain": [
       "0    7732\n",
       "1     182\n",
       "2     113\n",
       "3       1\n",
       "Name: selling_price, dtype: int64"
      ]
     },
     "execution_count": 44,
     "metadata": {},
     "output_type": "execute_result"
    }
   ],
   "source": [
    "y.value_counts()"
   ]
  },
  {
   "cell_type": "markdown",
   "id": "f4dcd897",
   "metadata": {},
   "source": [
    "## 3.2 Train Test Split"
   ]
  },
  {
   "cell_type": "code",
   "execution_count": 43,
   "id": "0ef56bf4",
   "metadata": {},
   "outputs": [],
   "source": [
    "# Dataset is small so let's train 80 % and test 20 %\n",
    "from sklearn.model_selection import train_test_split\n",
    "\n",
    "X_train, X_test, y_train, y_test = train_test_split(X, y, test_size = 0.2, random_state = 42)"
   ]
  },
  {
   "cell_type": "code",
   "execution_count": 44,
   "id": "400dec0b",
   "metadata": {},
   "outputs": [
    {
     "data": {
      "text/plain": [
       "(6422, 2)"
      ]
     },
     "execution_count": 44,
     "metadata": {},
     "output_type": "execute_result"
    }
   ],
   "source": [
    "X_train.shape"
   ]
  },
  {
   "cell_type": "code",
   "execution_count": 45,
   "id": "d967b82d",
   "metadata": {},
   "outputs": [
    {
     "data": {
      "text/plain": [
       "(6422,)"
      ]
     },
     "execution_count": 45,
     "metadata": {},
     "output_type": "execute_result"
    }
   ],
   "source": [
    "y_train.shape"
   ]
  },
  {
   "cell_type": "code",
   "execution_count": 46,
   "id": "07966852",
   "metadata": {},
   "outputs": [
    {
     "data": {
      "text/plain": [
       "(1606, 2)"
      ]
     },
     "execution_count": 46,
     "metadata": {},
     "output_type": "execute_result"
    }
   ],
   "source": [
    "X_test.shape"
   ]
  },
  {
   "cell_type": "code",
   "execution_count": 47,
   "id": "772a9873",
   "metadata": {
    "scrolled": true
   },
   "outputs": [
    {
     "data": {
      "text/plain": [
       "(1606,)"
      ]
     },
     "execution_count": 47,
     "metadata": {},
     "output_type": "execute_result"
    }
   ],
   "source": [
    "y_test.shape"
   ]
  },
  {
   "cell_type": "markdown",
   "id": "edd2434b",
   "metadata": {},
   "source": [
    "# 4. Preprocessing"
   ]
  },
  {
   "cell_type": "markdown",
   "id": "7247ab0f",
   "metadata": {},
   "source": [
    "## 4.1. Data Cleaning"
   ]
  },
  {
   "cell_type": "code",
   "execution_count": 48,
   "id": "a7ea6861",
   "metadata": {
    "scrolled": false
   },
   "outputs": [
    {
     "data": {
      "text/plain": [
       "year           0\n",
       "max_power    165\n",
       "dtype: int64"
      ]
     },
     "execution_count": 48,
     "metadata": {},
     "output_type": "execute_result"
    }
   ],
   "source": [
    "# Check null counts\n",
    "X_train.isnull().sum()"
   ]
  },
  {
   "cell_type": "code",
   "execution_count": 49,
   "id": "ca5363e0",
   "metadata": {},
   "outputs": [
    {
     "data": {
      "text/plain": [
       "<seaborn.axisgrid.FacetGrid at 0x1dcaf7febe0>"
      ]
     },
     "execution_count": 49,
     "metadata": {},
     "output_type": "execute_result"
    },
    {
     "data": {
      "image/png": "[encoded data removed]",
      "text/plain": [
       "<Figure size 500x500 with 1 Axes>"
      ]
     },
     "metadata": {},
     "output_type": "display_data"
    }
   ],
   "source": [
    "# Check distibution to fill Null values\n",
    "sns.displot(data=df, x=\"max_power\")"
   ]
  },
  {
   "cell_type": "code",
   "execution_count": 50,
   "id": "35db3ccd",
   "metadata": {},
   "outputs": [
    {
     "data": {
      "text/plain": [
       "91.8197257033248"
      ]
     },
     "execution_count": 50,
     "metadata": {},
     "output_type": "execute_result"
    }
   ],
   "source": [
    "X['max_power'].mean()"
   ]
  },
  {
   "cell_type": "code",
   "execution_count": 51,
   "id": "b83faa7b",
   "metadata": {},
   "outputs": [],
   "source": [
    "# max power is normally distributed so fill with mean\n",
    "\n",
    "X_train['max_power'].fillna(X['max_power'].mean(), inplace=True)"
   ]
  },
  {
   "cell_type": "code",
   "execution_count": 52,
   "id": "e0806ad7",
   "metadata": {},
   "outputs": [
    {
     "data": {
      "text/plain": [
       "year          0\n",
       "max_power    43\n",
       "dtype: int64"
      ]
     },
     "execution_count": 52,
     "metadata": {},
     "output_type": "execute_result"
    }
   ],
   "source": [
    "# Check also for X_test\n",
    "X_test.isnull().sum()"
   ]
  },
  {
   "cell_type": "code",
   "execution_count": 53,
   "id": "59d68952",
   "metadata": {},
   "outputs": [],
   "source": [
    "# X_test['engine'].fillna(X['engine'].median(), inplace=True)\n",
    "X_test['max_power'].fillna(X['max_power'].mean(), inplace=True)"
   ]
  },
  {
   "cell_type": "code",
   "execution_count": 54,
   "id": "7ce0de03",
   "metadata": {},
   "outputs": [
    {
     "data": {
      "text/plain": [
       "year         0\n",
       "max_power    0\n",
       "dtype: int64"
      ]
     },
     "execution_count": 54,
     "metadata": {},
     "output_type": "execute_result"
    }
   ],
   "source": [
    "X_train.isnull().sum()"
   ]
  },
  {
   "cell_type": "code",
   "execution_count": 55,
   "id": "2cae5c4f",
   "metadata": {},
   "outputs": [
    {
     "data": {
      "text/plain": [
       "year         0\n",
       "max_power    0\n",
       "dtype: int64"
      ]
     },
     "execution_count": 55,
     "metadata": {},
     "output_type": "execute_result"
    }
   ],
   "source": [
    "X_test.isnull().sum()"
   ]
  },
  {
   "cell_type": "code",
   "execution_count": 56,
   "id": "42a25590",
   "metadata": {},
   "outputs": [
    {
     "data": {
      "text/plain": [
       "0"
      ]
     },
     "execution_count": 56,
     "metadata": {},
     "output_type": "execute_result"
    }
   ],
   "source": [
    "y_train.isnull().sum()"
   ]
  },
  {
   "cell_type": "code",
   "execution_count": 57,
   "id": "966e7cb4",
   "metadata": {},
   "outputs": [
    {
     "data": {
      "text/plain": [
       "0"
      ]
     },
     "execution_count": 57,
     "metadata": {},
     "output_type": "execute_result"
    }
   ],
   "source": [
    "y_test.isnull().sum()"
   ]
  },
  {
   "cell_type": "markdown",
   "id": "ea6a653c",
   "metadata": {},
   "source": [
    "## 4.2 Data Scaling"
   ]
  },
  {
   "cell_type": "code",
   "execution_count": 58,
   "id": "50437ef2",
   "metadata": {},
   "outputs": [
    {
     "data": {
      "text/plain": [
       "array([[ 5.39208956e-01, -1.09565669e+00],\n",
       "       [-2.02184117e-01, -1.26645956e+00],\n",
       "       [-1.19070822e+00,  8.89936178e-04],\n",
       "       ...,\n",
       "       [ 2.92077931e-01, -8.62117198e-02],\n",
       "       [ 1.28060203e+00,  3.49495515e+00],\n",
       "       [ 1.03347100e+00, -2.47335762e-01]])"
      ]
     },
     "execution_count": 58,
     "metadata": {},
     "output_type": "execute_result"
    }
   ],
   "source": [
    "# Scale the data to make it easier for the calculation\n",
    "\n",
    "from sklearn.preprocessing import StandardScaler\n",
    "\n",
    "scaler = StandardScaler()\n",
    "X_train = scaler.fit_transform(X_train)\n",
    "X_train"
   ]
  },
  {
   "cell_type": "code",
   "execution_count": 59,
   "id": "5fc551b7",
   "metadata": {},
   "outputs": [
    {
     "data": {
      "text/plain": [
       "array([[-0.69644617, -0.05091246],\n",
       "       [ 0.53920896,  0.9795982 ],\n",
       "       [ 0.29207793, -0.70451811],\n",
       "       ...,\n",
       "       [-2.92062539, -1.55967116],\n",
       "       [ 0.29207793,  0.19390499],\n",
       "       [ 0.04494691, -0.28434305]])"
      ]
     },
     "execution_count": 59,
     "metadata": {},
     "output_type": "execute_result"
    }
   ],
   "source": [
    "X_test = scaler.transform(X_test)\n",
    "X_test"
   ]
  },
  {
   "cell_type": "code",
   "execution_count": 60,
   "id": "ff80a3d0",
   "metadata": {},
   "outputs": [
    {
     "data": {
      "text/plain": [
       "2982    0\n",
       "2430    0\n",
       "6294    0\n",
       "6255    0\n",
       "4253    0\n",
       "       ..\n",
       "5293    0\n",
       "5461    0\n",
       "865     0\n",
       "7701    2\n",
       "7366    0\n",
       "Name: selling_price, Length: 6422, dtype: int64"
      ]
     },
     "execution_count": 60,
     "metadata": {},
     "output_type": "execute_result"
    }
   ],
   "source": [
    "y_train"
   ]
  },
  {
   "cell_type": "code",
   "execution_count": 61,
   "id": "a3ee0ec5",
   "metadata": {},
   "outputs": [
    {
     "data": {
      "text/plain": [
       "5948    0\n",
       "6039    0\n",
       "3069    0\n",
       "6531    0\n",
       "322     0\n",
       "       ..\n",
       "4663    0\n",
       "2977    0\n",
       "2459    0\n",
       "928     0\n",
       "326     0\n",
       "Name: selling_price, Length: 1606, dtype: int64"
      ]
     },
     "execution_count": 61,
     "metadata": {},
     "output_type": "execute_result"
    }
   ],
   "source": [
    "y_test"
   ]
  },
  {
   "cell_type": "code",
   "execution_count": 62,
   "id": "cc6e667b",
   "metadata": {},
   "outputs": [],
   "source": [
    "# add intercept to our X\n",
    "intercept = np.ones((X_train.shape[0], 1))\n",
    "X_train   = np.concatenate((intercept, X_train), axis=1)  #add intercept\n",
    "intercept = np.ones((X_test.shape[0], 1))\n",
    "X_test    = np.concatenate((intercept, X_test), axis=1)  #add intercept"
   ]
  },
  {
   "cell_type": "code",
   "execution_count": 63,
   "id": "9cc7f6e3",
   "metadata": {},
   "outputs": [
    {
     "data": {
      "text/plain": [
       "(6422, 3)"
      ]
     },
     "execution_count": 63,
     "metadata": {},
     "output_type": "execute_result"
    }
   ],
   "source": [
    "X_train.shape"
   ]
  },
  {
   "cell_type": "code",
   "execution_count": 64,
   "id": "b76ff1ad",
   "metadata": {},
   "outputs": [
    {
     "data": {
      "text/plain": [
       "(6422,)"
      ]
     },
     "execution_count": 64,
     "metadata": {},
     "output_type": "execute_result"
    }
   ],
   "source": [
    "y_train.shape"
   ]
  },
  {
   "cell_type": "code",
   "execution_count": 65,
   "id": "efcd27e4",
   "metadata": {},
   "outputs": [
    {
     "data": {
      "text/plain": [
       "(1606, 3)"
      ]
     },
     "execution_count": 65,
     "metadata": {},
     "output_type": "execute_result"
    }
   ],
   "source": [
    "X_test.shape"
   ]
  },
  {
   "cell_type": "code",
   "execution_count": 66,
   "id": "53afb968",
   "metadata": {},
   "outputs": [
    {
     "data": {
      "text/plain": [
       "(1606,)"
      ]
     },
     "execution_count": 66,
     "metadata": {},
     "output_type": "execute_result"
    }
   ],
   "source": [
    "y_test.shape"
   ]
  },
  {
   "cell_type": "markdown",
   "id": "7368c8f9",
   "metadata": {},
   "source": [
    "## 4.3. One-Hot Encoding"
   ]
  },
  {
   "cell_type": "code",
   "execution_count": 67,
   "id": "5947de5a",
   "metadata": {},
   "outputs": [],
   "source": [
    "k = len(set(y))  # no. of class  (can also use np.unique)\n",
    "m = X_train.shape[0]  # no.of samples\n",
    "n = X_train.shape[1]  # no. of features\n",
    "Y_train_encoded = np.zeros((m, k))\n",
    "for each_class in range(k):\n",
    "    cond = y_train==each_class\n",
    "    Y_train_encoded[np.where(cond), each_class] = 1"
   ]
  },
  {
   "cell_type": "code",
   "execution_count": 68,
   "id": "8bd2640f",
   "metadata": {},
   "outputs": [
    {
     "data": {
      "text/plain": [
       "(6422, 4)"
      ]
     },
     "execution_count": 68,
     "metadata": {},
     "output_type": "execute_result"
    }
   ],
   "source": [
    "Y_train_encoded.shape"
   ]
  },
  {
   "cell_type": "code",
   "execution_count": 69,
   "id": "871c7253",
   "metadata": {},
   "outputs": [
    {
     "data": {
      "text/plain": [
       "array([[1., 0., 0., 0.],\n",
       "       [1., 0., 0., 0.],\n",
       "       [1., 0., 0., 0.],\n",
       "       ...,\n",
       "       [1., 0., 0., 0.],\n",
       "       [0., 0., 1., 0.],\n",
       "       [1., 0., 0., 0.]])"
      ]
     },
     "execution_count": 69,
     "metadata": {},
     "output_type": "execute_result"
    }
   ],
   "source": [
    "Y_train_encoded"
   ]
  },
  {
   "cell_type": "code",
   "execution_count": 70,
   "id": "a67c484a",
   "metadata": {},
   "outputs": [
    {
     "data": {
      "text/plain": [
       "array([0, 0, 0, ..., 0, 0, 0], dtype=int64)"
      ]
     },
     "execution_count": 70,
     "metadata": {},
     "output_type": "execute_result"
    }
   ],
   "source": [
    "y_test = y_test.to_numpy()\n",
    "y_test"
   ]
  },
  {
   "cell_type": "markdown",
   "id": "08ee8629",
   "metadata": {},
   "source": [
    "# Model Selection"
   ]
  },
  {
   "cell_type": "markdown",
   "id": "d67ad642",
   "metadata": {},
   "source": [
    "## Algorithm"
   ]
  },
  {
   "cell_type": "code",
   "execution_count": 71,
   "id": "a39de29c",
   "metadata": {},
   "outputs": [],
   "source": [
    "class LogisticRegression:\n",
    "    \n",
    "    def __init__(self, reg, method, alpha = 0.001, max_iter=5000, l = 0.1):\n",
    "        self.alpha = alpha\n",
    "        self.max_iter = max_iter\n",
    "        self.method = method\n",
    "        self.reg = reg\n",
    "        self.l = l\n",
    "    \n",
    "    def fit(self, X, Y):\n",
    "        \n",
    "        self.W = np.random.rand(X.shape[1], Y.shape[1])\n",
    "        self.losses = []\n",
    "        \n",
    "        if self.method == \"batch\":\n",
    "            start_time = time.time()\n",
    "            for i in range(self.max_iter):\n",
    "                loss, grad =  self.gradient(X, Y)\n",
    "                self.losses.append(loss)\n",
    "                self.W = self.W - self.alpha * grad\n",
    "                if i % 500 == 0:\n",
    "                    print(f\"Loss at iteration {i}\", loss)\n",
    "                    mlflow.log_metric(key=\"train_loss\", value=loss, step=i)\n",
    "            print(f\"time taken: {time.time() - start_time}\")\n",
    "            \n",
    "        elif self.method == \"minibatch\":\n",
    "            start_time = time.time()\n",
    "            batch_size = int(0.3 * X.shape[0])\n",
    "            for i in range(self.max_iter):\n",
    "                ix = np.random.randint(0, X.shape[0]) #<----with replacement\n",
    "                batch_X = X[ix:ix+batch_size]\n",
    "                batch_Y = Y[ix:ix+batch_size]\n",
    "                loss, grad = self.gradient(batch_X, batch_Y)\n",
    "                self.losses.append(loss)\n",
    "                self.W = self.W - self.alpha * grad\n",
    "                if i % 500 == 0:\n",
    "                    print(f\"Loss at iteration {i}\", loss)\n",
    "                    mlflow.log_metric(key=\"train_loss\", value=loss, step=i)\n",
    "            print(f\"time taken: {time.time() - start_time}\")\n",
    "            \n",
    "        elif self.method == \"sto\":\n",
    "            start_time = time.time()\n",
    "            list_of_used_ix = []\n",
    "            for i in range(self.max_iter):\n",
    "                idx = np.random.randint(X.shape[0])\n",
    "                while i in list_of_used_ix:\n",
    "                    idx = np.random.randint(X.shape[0])\n",
    "                X_train = X[idx, :].reshape(1, -1)\n",
    "                Y_train = Y[idx]\n",
    "                loss, grad = self.gradient(X_train, Y_train)\n",
    "                self.losses.append(loss)\n",
    "                self.W = self.W - self.alpha * grad\n",
    "                \n",
    "                list_of_used_ix.append(i)\n",
    "                if len(list_of_used_ix) == X.shape[0]:\n",
    "                    list_of_used_ix = []\n",
    "                if i % 500 == 0:\n",
    "                    print(f\"Loss at iteration {i}\", loss)\n",
    "                    mlflow.log_metric(key=\"train_loss\", value=loss, step=i)\n",
    "            print(f\"time taken: {time.time() - start_time}\")\n",
    "            \n",
    "        else:\n",
    "            raise ValueError('Method must be one of the followings: \"batch\", \"minibatch\" or \"sto\".')\n",
    "        \n",
    "    def cal_loss(self, Y, h):\n",
    "        loss = - np.sum(Y*np.log(h)) / m\n",
    "        return loss\n",
    "\n",
    "        \n",
    "    def gradient(self, X, Y):\n",
    "        m = X.shape[0]\n",
    "        h = self.h_theta(X, self.W)\n",
    "        loss = self.cal_loss(Y, h)\n",
    "        error = h - Y\n",
    "        if self.reg == \"ridge\":\n",
    "            grad = self.softmax_grad(X, error) + self.l * 2 * self.W\n",
    "        else:\n",
    "            grad = self.softmax_grad(X, error)\n",
    "        return loss, grad\n",
    "\n",
    "\n",
    "    def softmax(self, theta_t_x):\n",
    "        return np.exp(theta_t_x) / np.sum(np.exp(theta_t_x), axis=1, keepdims=True)\n",
    "\n",
    "    def softmax_grad(self, X, error):\n",
    "        return  X.T @ error\n",
    "\n",
    "    def h_theta(self, X, W):\n",
    "        '''\n",
    "        Input:\n",
    "            X shape: (m, n)\n",
    "            w shape: (n, k)\n",
    "        Returns:\n",
    "            yhat shape: (m, k)\n",
    "        '''\n",
    "        return self.softmax(X @ W)\n",
    "    \n",
    "    def predict(self, X_test):\n",
    "        return np.argmax(self.h_theta(X_test, self.W), axis=1)\n",
    "    \n",
    "    def plot(self):\n",
    "        plt.plot(np.arange(len(self.losses)) , self.losses, label = \"Train Losses\")\n",
    "        plt.title(\"Losses\")\n",
    "        plt.xlabel(\"epoch\")\n",
    "        plt.ylabel(\"losses\")\n",
    "        plt.legend()"
   ]
  },
  {
   "cell_type": "markdown",
   "id": "f9c097f4",
   "metadata": {},
   "source": [
    "## Regularization"
   ]
  },
  {
   "cell_type": "code",
   "execution_count": 72,
   "id": "d69b5dc7",
   "metadata": {},
   "outputs": [],
   "source": [
    "class RidgePenalty:\n",
    "    \n",
    "    def __init__(self, l):\n",
    "        self.l = l\n",
    "        \n",
    "    def __call__(self, theta): #__call__ allows us to call class as method\n",
    "        return self.l * np.sum(np.square(theta))\n",
    "        \n",
    "    def derivation(self, theta):\n",
    "        return self.l * 2 * theta\n",
    "    \n",
    "class NormalPenalty:\n",
    "    \n",
    "    def __init__(self, l):\n",
    "        self.l = l # lambda value\n",
    "        \n",
    "    def __call__(self, theta): #__call__ allows us to call class as method\n",
    "        return 0 # returning zero because normal just means using linear regression with no regularization\n",
    "        \n",
    "    def derivation(self, theta):\n",
    "        return 0 # returning zero because normal just means using linear regression with no regularization"
   ]
  },
  {
   "cell_type": "code",
   "execution_count": 73,
   "id": "4971ffb2",
   "metadata": {},
   "outputs": [],
   "source": [
    "class Ridge(LogisticRegression):\n",
    "    \n",
    "    def __init__(self, method, lr, l):\n",
    "        self.regularization = RidgePenalty(l)\n",
    "        super().__init__(self.regularization, method, lr)\n",
    "        \n",
    "class Normal(LogisticRegression):\n",
    "    \n",
    "    def __init__(self, method, lr, l):\n",
    "        self.regularization = NormalPenalty(l)\n",
    "        super().__init__(self.regularization, method, lr)"
   ]
  },
  {
   "cell_type": "code",
   "execution_count": 74,
   "id": "be7e65d5",
   "metadata": {},
   "outputs": [],
   "source": [
    "#helper function for looping classnames\n",
    "import sys\n",
    "\n",
    "def str_to_class(classname):\n",
    "    return getattr(sys.modules[__name__], classname)"
   ]
  },
  {
   "cell_type": "markdown",
   "id": "5fcc13bb",
   "metadata": {},
   "source": [
    "## Metrics"
   ]
  },
  {
   "cell_type": "code",
   "execution_count": 75,
   "id": "0072f2a9",
   "metadata": {},
   "outputs": [],
   "source": [
    "def accuracy(y_true, y_pred):\n",
    "    correct = 0\n",
    "    total = len(y_true)\n",
    "    for i, j in zip(y_true, y_pred):\n",
    "        if i == j:\n",
    "            correct += 1\n",
    "    return correct/total, total"
   ]
  },
  {
   "cell_type": "code",
   "execution_count": 76,
   "id": "ff068557",
   "metadata": {},
   "outputs": [],
   "source": [
    "def precision(y_true, y_pred):\n",
    "    precisions = []\n",
    "    weighted_precisions = []\n",
    "    class_precision = dict()\n",
    "    unique_classes, supports = np.unique(y_true, return_counts=True)\n",
    "\n",
    "    for i, _class in enumerate(unique_classes):\n",
    "        \n",
    "        # True Positives (TP): Correct predictions for _class\n",
    "        tp = np.sum((y_true == _class) & (y_pred == _class))\n",
    "        \n",
    "        # False Positives (FP): Predicted class _class, but actual class is not _class\n",
    "        fp = np.sum((y_true != _class) & (y_pred == _class))\n",
    "        \n",
    "        # Precision: TP / (TP + FP), handle division by zero\n",
    "        precision = tp / (tp + fp) if (tp + fp) > 0 else 0\n",
    "        \n",
    "        class_precision[_class] = round(precision, 2)\n",
    "        precisions.append(precision)\n",
    "        weighted_precisions.append((precision*supports[i])/np.sum(supports))\n",
    "        \n",
    "    return class_precision, round(np.mean(precisions), 2), round(np.sum(weighted_precisions), 2), supports        "
   ]
  },
  {
   "cell_type": "code",
   "execution_count": 77,
   "id": "bc61ed2e",
   "metadata": {},
   "outputs": [],
   "source": [
    "def recall(y_true, y_pred):\n",
    "    \n",
    "    recalls = []\n",
    "    weighted_recalls = []\n",
    "    class_recall = dict()\n",
    "    unique_classes, supports = np.unique(y_true, return_counts=True)\n",
    "    recalls = []\n",
    "\n",
    "    for i, _class in enumerate(unique_classes):\n",
    "        # True Positives (TP): Correct predictions for class i\n",
    "        tp = np.sum((y_true == _class) & (y_pred == _class))\n",
    "        \n",
    "        # False Negative (FN): Actual class i, but prediction class is not i\n",
    "        fn = np.sum((y_true == _class) & (y_pred != _class))\n",
    "        \n",
    "        # recall: TP / (TP + FN), handle division by zero\n",
    "        recall = tp / (tp + fn) if (tp + fn) > 0 else 0\n",
    "        \n",
    "        class_recall[_class] = round(recall, 2)\n",
    "        recalls.append(recall)\n",
    "        weighted_recalls.append((recall*supports[i])/np.sum(supports))\n",
    "        \n",
    "    return class_recall, round(np.mean(recalls), 2), round(np.sum(weighted_recalls), 2), supports"
   ]
  },
  {
   "cell_type": "code",
   "execution_count": 78,
   "id": "6cbef2b0",
   "metadata": {},
   "outputs": [],
   "source": [
    "def f1_score(y_true, y_pred):\n",
    "    class_f1_score = dict()\n",
    "    \n",
    "    class_precision, avg_precision, w_precision, supports = precision(y_true, y_pred)\n",
    "    class_recall, avg_recall, w_recall, supports = recall(y_true, y_pred)\n",
    "    \n",
    "    \n",
    "    \n",
    "    for _class, pre in class_precision.items():\n",
    "        class_f1_score[_class] = round((2*pre*class_recall[_class]) / (pre+class_recall[_class]), 2)\n",
    "        \n",
    "    avg_f1_score = round((2*avg_precision*avg_recall)/(avg_precision+avg_recall), 2)\n",
    "    w_f1_score = round((2*w_precision*w_recall)/(w_precision+w_recall), 2)\n",
    "        \n",
    "    return class_f1_score, avg_f1_score, w_f1_score, supports"
   ]
  },
  {
   "cell_type": "code",
   "execution_count": 79,
   "id": "2bb5a778",
   "metadata": {},
   "outputs": [],
   "source": [
    "def custom_classification_report(y_true, y_pred):\n",
    "    acc, total = accuracy(y_true, y_pred)\n",
    "    class_precision, avg_precision, w_precision, supports = precision(y_true, y_pred)\n",
    "    class_recall, avg_recall, w_recall, supports = recall(y_true, y_pred)\n",
    "    class_f1_score, avg_f1_score, w_f1_score, supports = f1_score(y_true, y_pred)\n",
    "    print('class\\t\\t precision \\t recall \\t f1-score \\t support')\n",
    "    \n",
    "    for _class, f1 in class_f1_score.items():\n",
    "        print(f'{_class}\\t\\t {class_precision[_class]} \\t\\t {class_recall[_class]} \\t\\t {class_f1_score[_class]} \\t\\t {supports[_class]}')\n",
    "    \n",
    "    print()\n",
    "    print(f'accuracy \\t\\t\\t\\t\\t {acc} \\t\\t {total}')\n",
    "    print(f'macro avg \\t {avg_precision} \\t\\t {avg_recall} \\t\\t {avg_recall} \\t\\t {total}')\n",
    "    print(f'weighted avg \\t {w_precision} \\t\\t {w_precision} \\t\\t {w_f1_score} \\t\\t {total}')\n",
    "        "
   ]
  },
  {
   "cell_type": "markdown",
   "id": "88a98c3a",
   "metadata": {},
   "source": [
    "# Compare Custom vs Sklearn Classification"
   ]
  },
  {
   "cell_type": "code",
   "execution_count": 80,
   "id": "351bf24d",
   "metadata": {},
   "outputs": [],
   "source": [
    "from sklearn.metrics import classification_report"
   ]
  },
  {
   "cell_type": "code",
   "execution_count": 81,
   "id": "c57fc4e4",
   "metadata": {},
   "outputs": [
    {
     "name": "stdout",
     "output_type": "stream",
     "text": [
      "              precision    recall  f1-score   support\n",
      "\n",
      "           0       1.00      1.00      1.00         2\n",
      "           1       0.67      0.67      0.67         3\n",
      "           2       0.67      0.67      0.67         3\n",
      "           3       1.00      1.00      1.00         2\n",
      "\n",
      "    accuracy                           0.80        10\n",
      "   macro avg       0.83      0.83      0.83        10\n",
      "weighted avg       0.80      0.80      0.80        10\n",
      "\n"
     ]
    }
   ],
   "source": [
    "# Dummy data\n",
    "y_true = np.array([0, 1, 2, 3, 3, 2, 1, 0, 1, 2])\n",
    "y_pred = np.array([0, 2, 2, 3, 3, 1, 1, 0, 1, 2])\n",
    "\n",
    "print(classification_report(y_true, y_pred))"
   ]
  },
  {
   "cell_type": "code",
   "execution_count": 82,
   "id": "a111c163",
   "metadata": {},
   "outputs": [
    {
     "name": "stdout",
     "output_type": "stream",
     "text": [
      "class\t\t precision \t recall \t f1-score \t support\n",
      "0\t\t 1.0 \t\t 1.0 \t\t 1.0 \t\t 2\n",
      "1\t\t 0.67 \t\t 0.67 \t\t 0.67 \t\t 3\n",
      "2\t\t 0.67 \t\t 0.67 \t\t 0.67 \t\t 3\n",
      "3\t\t 1.0 \t\t 1.0 \t\t 1.0 \t\t 2\n",
      "\n",
      "accuracy \t\t\t\t\t 0.8 \t\t 10\n",
      "macro avg \t 0.83 \t\t 0.83 \t\t 0.83 \t\t 10\n",
      "weighted avg \t 0.8 \t\t 0.8 \t\t 0.8 \t\t 10\n"
     ]
    }
   ],
   "source": [
    "custom_classification_report(y_true, y_pred)"
   ]
  },
  {
   "cell_type": "markdown",
   "id": "7f15bccf",
   "metadata": {},
   "source": [
    "## Grid Search"
   ]
  },
  {
   "cell_type": "code",
   "execution_count": 83,
   "id": "d49fb9d2",
   "metadata": {},
   "outputs": [
    {
     "name": "stderr",
     "output_type": "stream",
     "text": [
      "2024/10/06 10:02:11 INFO mlflow.tracking.fluent: Experiment with name 'st124973_a3' does not exist. Creating a new experiment.\n",
      "2024/10/06 10:02:12 WARNING mlflow.utils.git_utils: Failed to import Git (the Git executable is probably not on your PATH), so Git SHA is not available. Error: Failed to initialize: Bad git executable.\n",
      "The git executable must be specified in one of the following ways:\n",
      "    - be included in your $PATH\n",
      "    - be set via $GIT_PYTHON_GIT_EXECUTABLE\n",
      "    - explicitly set via git.refresh(<full-path-to-git-executable>)\n",
      "\n",
      "All git commands will error until this is rectified.\n",
      "\n",
      "This initial message can be silenced or aggravated in the future by setting the\n",
      "$GIT_PYTHON_REFRESH environment variable. Use one of the following values:\n",
      "    - quiet|q|silence|s|silent|none|n|0: for no message or exception\n",
      "    - warn|w|warning|log|l|1: for a warning message (logging level CRITICAL, displayed by default)\n",
      "    - error|e|exception|raise|r|2: for a raised exception\n",
      "\n",
      "Example:\n",
      "    export GIT_PYTHON_REFRESH=quiet\n",
      "\n"
     ]
    },
    {
     "name": "stdout",
     "output_type": "stream",
     "text": [
      "\n",
      "===== Regularization: Ridge =====\n",
      "===== Method: sto =====\n",
      "===== Learning Rate: 0.01 =====\n",
      "Loss at iteration 0 0.00022646821948623365\n",
      "Loss at iteration 500 2.9486395756549868e-05\n",
      "Loss at iteration 1000 2.1089612129281455e-05\n",
      "Loss at iteration 1500 1.1327568481995312e-05\n",
      "Loss at iteration 2000 0.00022351695644767518\n",
      "Loss at iteration 2500 2.6323875501967276e-06\n",
      "Loss at iteration 3000 2.334039695701608e-06\n",
      "Loss at iteration 3500 2.74681727500637e-06\n",
      "Loss at iteration 4000 1.010108245776347e-06\n",
      "Loss at iteration 4500 2.041689145969463e-06\n",
      "time taken: 2.6073226928710938\n",
      "-------------------------\n",
      "Accuracy:  0.9570361145703612\n",
      "Average Precision:  0.31\n",
      "Weighted Precision:  0.93\n",
      "Average Recall:  0.28\n",
      "Weighted Recall:  0.96\n",
      "Average F1Score:  0.29\n",
      "Weighted F1Score:  0.94\n"
     ]
    },
    {
     "name": "stderr",
     "output_type": "stream",
     "text": [
      "2024/10/06 10:02:25 INFO mlflow.tracking._tracking_service.client: 🏃 View run reg-Ridge-method-sto-lr-0.01 at: https://mlflow.ml.brain.cs.ait.ac.th/#/experiments/758892972552086115/runs/fdef13555b9f49088783239cae7b7475.\n",
      "2024/10/06 10:02:25 INFO mlflow.tracking._tracking_service.client: 🧪 View experiment at: https://mlflow.ml.brain.cs.ait.ac.th/#/experiments/758892972552086115.\n"
     ]
    },
    {
     "name": "stdout",
     "output_type": "stream",
     "text": [
      "\n",
      "===== Regularization: Ridge =====\n",
      "===== Method: sto =====\n",
      "===== Learning Rate: 0.001 =====\n",
      "Loss at iteration 0 0.0002557314978365153\n",
      "Loss at iteration 500 0.00023689564929077364\n",
      "Loss at iteration 1000 0.00013871448832525847\n",
      "Loss at iteration 1500 0.00010851244422559248\n",
      "Loss at iteration 2000 0.00012824696022813688\n",
      "Loss at iteration 2500 7.381324477888605e-05\n",
      "Loss at iteration 3000 8.087211562371569e-05\n",
      "Loss at iteration 3500 7.209603025604529e-05\n",
      "Loss at iteration 4000 4.2828576995101014e-05\n",
      "Loss at iteration 4500 7.075322790837845e-05\n",
      "time taken: 2.650001049041748\n",
      "-------------------------\n",
      "Accuracy:  0.9564134495641345\n",
      "Average Precision:  0.24\n",
      "Weighted Precision:  0.92\n",
      "Average Recall:  0.25\n",
      "Weighted Recall:  0.96\n",
      "Average F1Score:  0.24\n",
      "Weighted F1Score:  0.94\n"
     ]
    },
    {
     "name": "stderr",
     "output_type": "stream",
     "text": [
      "2024/10/06 10:02:33 INFO mlflow.tracking._tracking_service.client: 🏃 View run reg-Ridge-method-sto-lr-0.001 at: https://mlflow.ml.brain.cs.ait.ac.th/#/experiments/758892972552086115/runs/4de7b2b90dae4e9b88aa86dff62bc391.\n",
      "2024/10/06 10:02:33 INFO mlflow.tracking._tracking_service.client: 🧪 View experiment at: https://mlflow.ml.brain.cs.ait.ac.th/#/experiments/758892972552086115.\n"
     ]
    },
    {
     "name": "stdout",
     "output_type": "stream",
     "text": [
      "\n",
      "===== Regularization: Ridge =====\n",
      "===== Method: sto =====\n",
      "===== Learning Rate: 0.0001 =====\n",
      "Loss at iteration 0 0.00014199088296360714\n",
      "Loss at iteration 500 0.00011171382270878251\n",
      "Loss at iteration 1000 0.00010659790325811077\n",
      "Loss at iteration 1500 0.0001054844090952766\n",
      "Loss at iteration 2000 0.00011398655537951651\n",
      "Loss at iteration 2500 0.00014893126206934354\n",
      "Loss at iteration 3000 0.00020429572993994522\n",
      "Loss at iteration 3500 7.796141454618185e-05\n",
      "Loss at iteration 4000 0.0002231186472787878\n",
      "Loss at iteration 4500 0.00011242709821672893\n",
      "time taken: 2.612461805343628\n",
      "-------------------------\n",
      "Accuracy:  0.8810709838107098\n",
      "Average Precision:  0.24\n",
      "Weighted Precision:  0.91\n",
      "Average Recall:  0.23\n",
      "Weighted Recall:  0.88\n",
      "Average F1Score:  0.23\n",
      "Weighted F1Score:  0.89\n"
     ]
    },
    {
     "name": "stderr",
     "output_type": "stream",
     "text": [
      "2024/10/06 10:02:41 INFO mlflow.tracking._tracking_service.client: 🏃 View run reg-Ridge-method-sto-lr-0.0001 at: https://mlflow.ml.brain.cs.ait.ac.th/#/experiments/758892972552086115/runs/2ea3d3c5ab204efb8c45fa2a508b0200.\n",
      "2024/10/06 10:02:41 INFO mlflow.tracking._tracking_service.client: 🧪 View experiment at: https://mlflow.ml.brain.cs.ait.ac.th/#/experiments/758892972552086115.\n"
     ]
    },
    {
     "name": "stdout",
     "output_type": "stream",
     "text": [
      "\n",
      "===== Regularization: Ridge =====\n",
      "===== Method: minibatch =====\n",
      "===== Learning Rate: 0.01 =====\n",
      "Loss at iteration 0 0.33993001849079035\n",
      "Loss at iteration 500 0.005858105776651267\n",
      "Loss at iteration 1000 0.03714600879897479\n",
      "Loss at iteration 1500 0.005498473277256144\n",
      "Loss at iteration 2000 0.01145393349439532\n",
      "Loss at iteration 2500 0.008137767406591912\n",
      "Loss at iteration 3000 0.011432090687639439\n",
      "Loss at iteration 3500 0.01608481292281712\n",
      "Loss at iteration 4000 0.014619657536875084\n",
      "Loss at iteration 4500 0.012027004526280105\n",
      "time taken: 4.76413106918335\n",
      "-------------------------\n",
      "Accuracy:  0.9701120797011208\n",
      "Average Precision:  0.54\n",
      "Weighted Precision:  0.98\n",
      "Average Recall:  0.52\n",
      "Weighted Recall:  0.97\n",
      "Average F1Score:  0.53\n",
      "Weighted F1Score:  0.97\n"
     ]
    },
    {
     "name": "stderr",
     "output_type": "stream",
     "text": [
      "2024/10/06 10:02:51 INFO mlflow.tracking._tracking_service.client: 🏃 View run reg-Ridge-method-minibatch-lr-0.01 at: https://mlflow.ml.brain.cs.ait.ac.th/#/experiments/758892972552086115/runs/fef90ede092d492eb0799449450dc4fc.\n",
      "2024/10/06 10:02:51 INFO mlflow.tracking._tracking_service.client: 🧪 View experiment at: https://mlflow.ml.brain.cs.ait.ac.th/#/experiments/758892972552086115.\n"
     ]
    },
    {
     "name": "stdout",
     "output_type": "stream",
     "text": [
      "\n",
      "===== Regularization: Ridge =====\n",
      "===== Method: minibatch =====\n",
      "===== Learning Rate: 0.001 =====\n",
      "Loss at iteration 0 0.22631361231718453\n",
      "Loss at iteration 500 0.016585689983211197\n",
      "Loss at iteration 1000 0.007997386451342408\n",
      "Loss at iteration 1500 0.0033497011289882845\n",
      "Loss at iteration 2000 0.008994185610940304\n",
      "Loss at iteration 2500 0.013586536786441478\n",
      "Loss at iteration 3000 0.0031627088832479663\n",
      "Loss at iteration 3500 0.01062438218524073\n",
      "Loss at iteration 4000 0.012978186060422269\n",
      "Loss at iteration 4500 0.013364681248137262\n",
      "time taken: 4.58666467666626\n",
      "-------------------------\n",
      "Accuracy:  0.9782067247820673\n",
      "Average Precision:  0.62\n",
      "Weighted Precision:  0.98\n",
      "Average Recall:  0.59\n",
      "Weighted Recall:  0.98\n",
      "Average F1Score:  0.6\n",
      "Weighted F1Score:  0.98\n"
     ]
    },
    {
     "name": "stderr",
     "output_type": "stream",
     "text": [
      "2024/10/06 10:03:02 INFO mlflow.tracking._tracking_service.client: 🏃 View run reg-Ridge-method-minibatch-lr-0.001 at: https://mlflow.ml.brain.cs.ait.ac.th/#/experiments/758892972552086115/runs/c22a68e3d4d245a2a382e6ea1cceca62.\n",
      "2024/10/06 10:03:02 INFO mlflow.tracking._tracking_service.client: 🧪 View experiment at: https://mlflow.ml.brain.cs.ait.ac.th/#/experiments/758892972552086115.\n"
     ]
    },
    {
     "name": "stdout",
     "output_type": "stream",
     "text": [
      "\n",
      "===== Regularization: Ridge =====\n",
      "===== Method: minibatch =====\n",
      "===== Learning Rate: 0.0001 =====\n",
      "Loss at iteration 0 0.4424513939467583\n",
      "Loss at iteration 500 0.02360348320948676\n",
      "Loss at iteration 1000 0.017812434522250453\n",
      "Loss at iteration 1500 0.020022251206946992\n",
      "Loss at iteration 2000 0.017833513440261625\n",
      "Loss at iteration 2500 0.017778792095097664\n",
      "Loss at iteration 3000 0.015275049869810377\n",
      "Loss at iteration 3500 0.016636207476341144\n",
      "Loss at iteration 4000 0.014070691125856467\n",
      "Loss at iteration 4500 0.010822492616913778\n",
      "time taken: 5.625912666320801\n",
      "-------------------------\n",
      "Accuracy:  0.9669987546699875\n",
      "Average Precision:  0.52\n",
      "Weighted Precision:  0.96\n",
      "Average Recall:  0.41\n",
      "Weighted Recall:  0.97\n",
      "Average F1Score:  0.46\n",
      "Weighted F1Score:  0.96\n"
     ]
    },
    {
     "name": "stderr",
     "output_type": "stream",
     "text": [
      "2024/10/06 10:03:13 INFO mlflow.tracking._tracking_service.client: 🏃 View run reg-Ridge-method-minibatch-lr-0.0001 at: https://mlflow.ml.brain.cs.ait.ac.th/#/experiments/758892972552086115/runs/ef23b214354a48ada289ef4ab17c9515.\n",
      "2024/10/06 10:03:13 INFO mlflow.tracking._tracking_service.client: 🧪 View experiment at: https://mlflow.ml.brain.cs.ait.ac.th/#/experiments/758892972552086115.\n"
     ]
    },
    {
     "name": "stdout",
     "output_type": "stream",
     "text": [
      "\n",
      "===== Regularization: Ridge =====\n",
      "===== Method: batch =====\n",
      "===== Learning Rate: 0.01 =====\n",
      "Loss at iteration 0 1.5575062048849813\n",
      "Loss at iteration 500 0.04785248066629043\n",
      "Loss at iteration 1000 0.05420413377673693\n",
      "Loss at iteration 1500 0.07021460896962359\n",
      "Loss at iteration 2000 0.0846167368702741\n",
      "Loss at iteration 2500 0.12194754084203185\n",
      "Loss at iteration 3000 0.10266031117258607\n",
      "Loss at iteration 3500 0.08849407940139811\n",
      "Loss at iteration 4000 0.4301610802815563\n",
      "Loss at iteration 4500 0.07796370148511977\n",
      "time taken: 10.539214134216309\n",
      "-------------------------\n",
      "Accuracy:  0.9831880448318805\n",
      "Average Precision:  0.62\n",
      "Weighted Precision:  0.98\n",
      "Average Recall:  0.68\n",
      "Weighted Recall:  0.98\n",
      "Average F1Score:  0.65\n",
      "Weighted F1Score:  0.98\n"
     ]
    },
    {
     "name": "stderr",
     "output_type": "stream",
     "text": [
      "2024/10/06 10:03:30 INFO mlflow.tracking._tracking_service.client: 🏃 View run reg-Ridge-method-batch-lr-0.01 at: https://mlflow.ml.brain.cs.ait.ac.th/#/experiments/758892972552086115/runs/e6a42218f8584e358b8ba9c470920df8.\n",
      "2024/10/06 10:03:30 INFO mlflow.tracking._tracking_service.client: 🧪 View experiment at: https://mlflow.ml.brain.cs.ait.ac.th/#/experiments/758892972552086115.\n"
     ]
    },
    {
     "name": "stdout",
     "output_type": "stream",
     "text": [
      "\n",
      "===== Regularization: Ridge =====\n",
      "===== Method: batch =====\n",
      "===== Learning Rate: 0.001 =====\n",
      "Loss at iteration 0 1.6158788911976865\n",
      "Loss at iteration 500 0.041777150219468005\n",
      "Loss at iteration 1000 0.039311344028798906\n",
      "Loss at iteration 1500 0.038230423574186746\n",
      "Loss at iteration 2000 0.037613542402756175\n",
      "Loss at iteration 2500 0.03721085779046807\n",
      "Loss at iteration 3000 0.03692545474642849\n",
      "Loss at iteration 3500 0.036711658782196774\n",
      "Loss at iteration 4000 0.03654502902526704\n",
      "Loss at iteration 4500 0.03641124969759437\n",
      "time taken: 10.134603023529053\n",
      "-------------------------\n",
      "Accuracy:  0.9763387297633873\n",
      "Average Precision:  0.59\n",
      "Weighted Precision:  0.97\n",
      "Average Recall:  0.58\n",
      "Weighted Recall:  0.98\n",
      "Average F1Score:  0.58\n",
      "Weighted F1Score:  0.97\n"
     ]
    },
    {
     "name": "stderr",
     "output_type": "stream",
     "text": [
      "2024/10/06 10:03:46 INFO mlflow.tracking._tracking_service.client: 🏃 View run reg-Ridge-method-batch-lr-0.001 at: https://mlflow.ml.brain.cs.ait.ac.th/#/experiments/758892972552086115/runs/de59adbbfe7043d293af822776d191e0.\n",
      "2024/10/06 10:03:46 INFO mlflow.tracking._tracking_service.client: 🧪 View experiment at: https://mlflow.ml.brain.cs.ait.ac.th/#/experiments/758892972552086115.\n"
     ]
    },
    {
     "name": "stdout",
     "output_type": "stream",
     "text": [
      "\n",
      "===== Regularization: Ridge =====\n",
      "===== Method: batch =====\n",
      "===== Learning Rate: 0.0001 =====\n",
      "Loss at iteration 0 1.540962161870246\n",
      "Loss at iteration 500 0.05594527937747371\n",
      "Loss at iteration 1000 0.05069970350752843\n",
      "Loss at iteration 1500 0.04812141081052333\n",
      "Loss at iteration 2000 0.04644716100893644\n",
      "Loss at iteration 2500 0.04522754611579672\n",
      "Loss at iteration 3000 0.04428202130044696\n",
      "Loss at iteration 3500 0.04351965489401938\n",
      "Loss at iteration 4000 0.04288799129598608\n",
      "Loss at iteration 4500 0.04235393291302071\n",
      "time taken: 10.402307987213135\n",
      "-------------------------\n",
      "Accuracy:  0.9782067247820673\n",
      "Average Precision:  0.62\n",
      "Weighted Precision:  0.98\n",
      "Average Recall:  0.59\n",
      "Weighted Recall:  0.98\n",
      "Average F1Score:  0.6\n",
      "Weighted F1Score:  0.98\n"
     ]
    },
    {
     "name": "stderr",
     "output_type": "stream",
     "text": [
      "2024/10/06 10:04:02 INFO mlflow.tracking._tracking_service.client: 🏃 View run reg-Ridge-method-batch-lr-0.0001 at: https://mlflow.ml.brain.cs.ait.ac.th/#/experiments/758892972552086115/runs/d7deeaa060dd4d91a590f7103266dd30.\n",
      "2024/10/06 10:04:02 INFO mlflow.tracking._tracking_service.client: 🧪 View experiment at: https://mlflow.ml.brain.cs.ait.ac.th/#/experiments/758892972552086115.\n"
     ]
    },
    {
     "name": "stdout",
     "output_type": "stream",
     "text": [
      "\n",
      "===== Regularization: Normal =====\n",
      "===== Method: sto =====\n",
      "===== Learning Rate: 0.01 =====\n",
      "Loss at iteration 0 0.00025120701808466336\n",
      "Loss at iteration 500 2.737075082147118e-05\n",
      "Loss at iteration 1000 1.5684525294469067e-05\n",
      "Loss at iteration 1500 1.128301631506731e-05\n",
      "Loss at iteration 2000 6.434015543366254e-06\n",
      "Loss at iteration 2500 1.761178887851638e-05\n",
      "Loss at iteration 3000 8.038221391457753e-06\n",
      "Loss at iteration 3500 4.61300987245046e-06\n",
      "Loss at iteration 4000 2.345880856766296e-06\n",
      "Loss at iteration 4500 4.8882998591323776e-06\n",
      "time taken: 2.811161994934082\n",
      "-------------------------\n",
      "Accuracy:  0.9570361145703612\n",
      "Average Precision:  0.31\n",
      "Weighted Precision:  0.93\n",
      "Average Recall:  0.28\n",
      "Weighted Recall:  0.96\n",
      "Average F1Score:  0.29\n",
      "Weighted F1Score:  0.94\n"
     ]
    },
    {
     "name": "stderr",
     "output_type": "stream",
     "text": [
      "2024/10/06 10:04:11 INFO mlflow.tracking._tracking_service.client: 🏃 View run reg-Normal-method-sto-lr-0.01 at: https://mlflow.ml.brain.cs.ait.ac.th/#/experiments/758892972552086115/runs/9d4ced6e9a5a406d83b35ece5aeb572b.\n",
      "2024/10/06 10:04:11 INFO mlflow.tracking._tracking_service.client: 🧪 View experiment at: https://mlflow.ml.brain.cs.ait.ac.th/#/experiments/758892972552086115.\n"
     ]
    },
    {
     "name": "stdout",
     "output_type": "stream",
     "text": [
      "\n",
      "===== Regularization: Normal =====\n",
      "===== Method: sto =====\n",
      "===== Learning Rate: 0.001 =====\n",
      "Loss at iteration 0 0.00020815977543295228\n",
      "Loss at iteration 500 0.000189978518581559\n",
      "Loss at iteration 1000 5.6289332127445625e-05\n",
      "Loss at iteration 1500 4.8906978779805254e-05\n",
      "Loss at iteration 2000 6.573300842431031e-05\n",
      "Loss at iteration 2500 5.6212274683705255e-05\n",
      "Loss at iteration 3000 0.00012677930075737906\n",
      "Loss at iteration 3500 4.899625432442669e-05\n",
      "Loss at iteration 4000 2.161625351722187e-05\n",
      "Loss at iteration 4500 0.00010947426893098329\n",
      "time taken: 3.081268310546875\n",
      "-------------------------\n",
      "Accuracy:  0.9557907845579079\n",
      "Average Precision:  0.3\n",
      "Weighted Precision:  0.92\n",
      "Average Recall:  0.26\n",
      "Weighted Recall:  0.96\n",
      "Average F1Score:  0.28\n",
      "Weighted F1Score:  0.94\n"
     ]
    },
    {
     "name": "stderr",
     "output_type": "stream",
     "text": [
      "2024/10/06 10:04:19 INFO mlflow.tracking._tracking_service.client: 🏃 View run reg-Normal-method-sto-lr-0.001 at: https://mlflow.ml.brain.cs.ait.ac.th/#/experiments/758892972552086115/runs/4406a5438ef54789afc14535e6475449.\n",
      "2024/10/06 10:04:19 INFO mlflow.tracking._tracking_service.client: 🧪 View experiment at: https://mlflow.ml.brain.cs.ait.ac.th/#/experiments/758892972552086115.\n"
     ]
    },
    {
     "name": "stdout",
     "output_type": "stream",
     "text": [
      "\n",
      "===== Regularization: Normal =====\n",
      "===== Method: sto =====\n",
      "===== Learning Rate: 0.0001 =====\n",
      "Loss at iteration 0 0.00030391511077744227\n",
      "Loss at iteration 500 0.00019635163455045563\n",
      "Loss at iteration 1000 0.00025234276569705184\n",
      "Loss at iteration 1500 0.00019688909395007762\n",
      "Loss at iteration 2000 0.0002573796383984088\n",
      "Loss at iteration 2500 0.0002169057121113911\n",
      "Loss at iteration 3000 0.00022140403856055747\n",
      "Loss at iteration 3500 0.00017607573369116166\n",
      "Loss at iteration 4000 0.00016523209828575645\n",
      "Loss at iteration 4500 0.00018400044408883187\n",
      "time taken: 2.994769334793091\n",
      "-------------------------\n",
      "Accuracy:  0.2770859277708593\n",
      "Average Precision:  0.3\n",
      "Weighted Precision:  0.96\n",
      "Average Recall:  0.28\n",
      "Weighted Recall:  0.28\n",
      "Average F1Score:  0.29\n",
      "Weighted F1Score:  0.43\n"
     ]
    },
    {
     "name": "stderr",
     "output_type": "stream",
     "text": [
      "2024/10/06 10:04:28 INFO mlflow.tracking._tracking_service.client: 🏃 View run reg-Normal-method-sto-lr-0.0001 at: https://mlflow.ml.brain.cs.ait.ac.th/#/experiments/758892972552086115/runs/792892d698984ec481aa458648544530.\n",
      "2024/10/06 10:04:29 INFO mlflow.tracking._tracking_service.client: 🧪 View experiment at: https://mlflow.ml.brain.cs.ait.ac.th/#/experiments/758892972552086115.\n"
     ]
    },
    {
     "name": "stdout",
     "output_type": "stream",
     "text": [
      "\n",
      "===== Regularization: Normal =====\n",
      "===== Method: minibatch =====\n",
      "===== Learning Rate: 0.01 =====\n",
      "Loss at iteration 0 0.42354252896524913\n",
      "Loss at iteration 500 0.013268909308948869\n",
      "Loss at iteration 1000 0.01396047420502158\n",
      "Loss at iteration 1500 0.0265289763314566\n",
      "Loss at iteration 2000 0.011609109915219157\n",
      "Loss at iteration 2500 0.0007184806434072873\n",
      "Loss at iteration 3000 0.009503503364883753\n",
      "Loss at iteration 3500 0.006701421173198753\n",
      "Loss at iteration 4000 0.013106650588604205\n",
      "Loss at iteration 4500 0.013756475319354816\n",
      "time taken: 5.262317419052124\n",
      "-------------------------\n",
      "Accuracy:  0.9825653798256538\n",
      "Average Precision:  0.61\n",
      "Weighted Precision:  0.98\n",
      "Average Recall:  0.66\n",
      "Weighted Recall:  0.98\n",
      "Average F1Score:  0.63\n",
      "Weighted F1Score:  0.98\n"
     ]
    },
    {
     "name": "stderr",
     "output_type": "stream",
     "text": [
      "2024/10/06 10:04:40 INFO mlflow.tracking._tracking_service.client: 🏃 View run reg-Normal-method-minibatch-lr-0.01 at: https://mlflow.ml.brain.cs.ait.ac.th/#/experiments/758892972552086115/runs/c3456ebb3a704421add13eac3260a7fc.\n",
      "2024/10/06 10:04:40 INFO mlflow.tracking._tracking_service.client: 🧪 View experiment at: https://mlflow.ml.brain.cs.ait.ac.th/#/experiments/758892972552086115.\n"
     ]
    },
    {
     "name": "stdout",
     "output_type": "stream",
     "text": [
      "\n",
      "===== Regularization: Normal =====\n",
      "===== Method: minibatch =====\n",
      "===== Learning Rate: 0.001 =====\n",
      "Loss at iteration 0 0.39104619084746006\n",
      "Loss at iteration 500 0.0037412575386540454\n",
      "Loss at iteration 1000 0.015215386553146457\n",
      "Loss at iteration 1500 0.01520649539007142\n",
      "Loss at iteration 2000 0.01525138778127145\n",
      "Loss at iteration 2500 0.013625563180126895\n",
      "Loss at iteration 3000 0.005334353247469164\n",
      "Loss at iteration 3500 0.012891166046891403\n",
      "Loss at iteration 4000 0.00584271379453896\n",
      "Loss at iteration 4500 0.0026998274398576925\n",
      "time taken: 4.750073194503784\n",
      "-------------------------\n",
      "Accuracy:  0.9782067247820673\n",
      "Average Precision:  0.62\n",
      "Weighted Precision:  0.98\n",
      "Average Recall:  0.59\n",
      "Weighted Recall:  0.98\n",
      "Average F1Score:  0.6\n",
      "Weighted F1Score:  0.98\n"
     ]
    },
    {
     "name": "stderr",
     "output_type": "stream",
     "text": [
      "2024/10/06 10:04:51 INFO mlflow.tracking._tracking_service.client: 🏃 View run reg-Normal-method-minibatch-lr-0.001 at: https://mlflow.ml.brain.cs.ait.ac.th/#/experiments/758892972552086115/runs/ce0f642127624f0195ae05f0ddc501f0.\n",
      "2024/10/06 10:04:51 INFO mlflow.tracking._tracking_service.client: 🧪 View experiment at: https://mlflow.ml.brain.cs.ait.ac.th/#/experiments/758892972552086115.\n"
     ]
    },
    {
     "name": "stdout",
     "output_type": "stream",
     "text": [
      "\n",
      "===== Regularization: Normal =====\n",
      "===== Method: minibatch =====\n",
      "===== Learning Rate: 0.0001 =====\n",
      "Loss at iteration 0 0.1538107877553766\n",
      "Loss at iteration 500 0.021717814269930955\n",
      "Loss at iteration 1000 0.0208787916113951\n",
      "Loss at iteration 1500 0.01884615672062486\n",
      "Loss at iteration 2000 0.0186840855844905\n",
      "Loss at iteration 2500 0.015264876453357666\n",
      "Loss at iteration 3000 0.017375767697401897\n",
      "Loss at iteration 3500 0.016860022232831843\n",
      "Loss at iteration 4000 0.00568338744864102\n",
      "Loss at iteration 4500 0.014665011074158435\n",
      "time taken: 4.515261650085449\n",
      "-------------------------\n",
      "Accuracy:  0.962640099626401\n",
      "Average Precision:  0.33\n",
      "Weighted Precision:  0.95\n",
      "Average Recall:  0.34\n",
      "Weighted Recall:  0.96\n",
      "Average F1Score:  0.33\n",
      "Weighted F1Score:  0.95\n"
     ]
    },
    {
     "name": "stderr",
     "output_type": "stream",
     "text": [
      "2024/10/06 10:05:02 INFO mlflow.tracking._tracking_service.client: 🏃 View run reg-Normal-method-minibatch-lr-0.0001 at: https://mlflow.ml.brain.cs.ait.ac.th/#/experiments/758892972552086115/runs/56f313abe5a54376ac0ee69f46ae096d.\n",
      "2024/10/06 10:05:02 INFO mlflow.tracking._tracking_service.client: 🧪 View experiment at: https://mlflow.ml.brain.cs.ait.ac.th/#/experiments/758892972552086115.\n"
     ]
    },
    {
     "name": "stdout",
     "output_type": "stream",
     "text": [
      "\n",
      "===== Regularization: Normal =====\n",
      "===== Method: batch =====\n",
      "===== Learning Rate: 0.01 =====\n",
      "Loss at iteration 0 1.5505117761200136\n",
      "Loss at iteration 500 0.05065604780174754\n",
      "Loss at iteration 1000 0.06448545354898971\n",
      "Loss at iteration 1500 0.0642484756877098\n",
      "Loss at iteration 2000 0.12773472562352597\n",
      "Loss at iteration 2500 0.17414875490291504\n",
      "Loss at iteration 3000 0.07344942473493651\n",
      "Loss at iteration 3500 0.08683627867491234\n",
      "Loss at iteration 4000 0.2255827924559067\n",
      "Loss at iteration 4500 0.1659107444142096\n",
      "time taken: 10.622066259384155\n",
      "-------------------------\n",
      "Accuracy:  0.962640099626401\n",
      "Average Precision:  0.35\n",
      "Weighted Precision:  0.96\n",
      "Average Recall:  0.47\n",
      "Weighted Recall:  0.96\n",
      "Average F1Score:  0.4\n",
      "Weighted F1Score:  0.96\n"
     ]
    },
    {
     "name": "stderr",
     "output_type": "stream",
     "text": [
      "2024/10/06 10:05:18 INFO mlflow.tracking._tracking_service.client: 🏃 View run reg-Normal-method-batch-lr-0.01 at: https://mlflow.ml.brain.cs.ait.ac.th/#/experiments/758892972552086115/runs/0891c0d8cf7745178a1df837ea75e410.\n",
      "2024/10/06 10:05:18 INFO mlflow.tracking._tracking_service.client: 🧪 View experiment at: https://mlflow.ml.brain.cs.ait.ac.th/#/experiments/758892972552086115.\n"
     ]
    },
    {
     "name": "stdout",
     "output_type": "stream",
     "text": [
      "\n",
      "===== Regularization: Normal =====\n",
      "===== Method: batch =====\n",
      "===== Learning Rate: 0.001 =====\n",
      "Loss at iteration 0 1.4315445892335485\n",
      "Loss at iteration 500 0.041807884784882954\n",
      "Loss at iteration 1000 0.03932316688148683\n",
      "Loss at iteration 1500 0.03823678818375214\n",
      "Loss at iteration 2000 0.03761756571748432\n",
      "Loss at iteration 2500 0.03721365525967381\n",
      "Loss at iteration 3000 0.03692752573032662\n",
      "Loss at iteration 3500 0.03671326107982633\n",
      "Loss at iteration 4000 0.03654630972146999\n",
      "Loss at iteration 4500 0.036412299175448255\n",
      "time taken: 10.125602006912231\n",
      "-------------------------\n",
      "Accuracy:  0.9763387297633873\n",
      "Average Precision:  0.59\n",
      "Weighted Precision:  0.97\n",
      "Average Recall:  0.58\n",
      "Weighted Recall:  0.98\n",
      "Average F1Score:  0.58\n",
      "Weighted F1Score:  0.97\n"
     ]
    },
    {
     "name": "stderr",
     "output_type": "stream",
     "text": [
      "2024/10/06 10:05:34 INFO mlflow.tracking._tracking_service.client: 🏃 View run reg-Normal-method-batch-lr-0.001 at: https://mlflow.ml.brain.cs.ait.ac.th/#/experiments/758892972552086115/runs/c72898d48c3648a1bec1ccd63b584053.\n",
      "2024/10/06 10:05:34 INFO mlflow.tracking._tracking_service.client: 🧪 View experiment at: https://mlflow.ml.brain.cs.ait.ac.th/#/experiments/758892972552086115.\n"
     ]
    },
    {
     "name": "stdout",
     "output_type": "stream",
     "text": [
      "\n",
      "===== Regularization: Normal =====\n",
      "===== Method: batch =====\n",
      "===== Learning Rate: 0.0001 =====\n",
      "Loss at iteration 0 1.828679883042446\n",
      "Loss at iteration 500 0.05587775586582564\n",
      "Loss at iteration 1000 0.05064091359871291\n",
      "Loss at iteration 1500 0.0480767937878584\n",
      "Loss at iteration 2000 0.046413071096641605\n",
      "Loss at iteration 2500 0.04520094122380852\n",
      "Loss at iteration 3000 0.0442608028205079\n",
      "Loss at iteration 3500 0.043502397253005656\n",
      "Loss at iteration 4000 0.042873711986075314\n",
      "Loss at iteration 4500 0.0423419402895021\n",
      "time taken: 9.742233991622925\n",
      "-------------------------\n",
      "Accuracy:  0.9782067247820673\n",
      "Average Precision:  0.62\n",
      "Weighted Precision:  0.98\n",
      "Average Recall:  0.59\n",
      "Weighted Recall:  0.98\n",
      "Average F1Score:  0.6\n",
      "Weighted F1Score:  0.98\n"
     ]
    },
    {
     "name": "stderr",
     "output_type": "stream",
     "text": [
      "2024/10/06 10:05:49 INFO mlflow.tracking._tracking_service.client: 🏃 View run reg-Normal-method-batch-lr-0.0001 at: https://mlflow.ml.brain.cs.ait.ac.th/#/experiments/758892972552086115/runs/de88c406000f4180a27ee16ff7412b60.\n",
      "2024/10/06 10:05:49 INFO mlflow.tracking._tracking_service.client: 🧪 View experiment at: https://mlflow.ml.brain.cs.ait.ac.th/#/experiments/758892972552086115.\n"
     ]
    }
   ],
   "source": [
    "#experiment tracking\n",
    "import mlflow\n",
    "import os\n",
    "import warnings\n",
    "import logging\n",
    "import time\n",
    "\n",
    "tracking_uri = \"https://mlflow.ml.brain.cs.ait.ac.th/\"\n",
    "mlflow.set_tracking_uri(tracking_uri)\n",
    "os.environ['MLFLOW_TRACKING_USERNAME'] = 'admin'\n",
    "os.environ['MLFLOW_TRACKING_PASSWORD'] = 'password'\n",
    "os.environ[\"LOGNAME\"] = \"st124973\"\n",
    "mlflow.set_experiment(experiment_name=\"st124973_a3\")\n",
    "\n",
    "\n",
    "# mlflow.set_tracking_uri(\"http://127.0.0.1:5000\")\n",
    "# os.environ[\"LOGNAME\"] = \"phone\"\n",
    "# mlflow.set_experiment(experiment_name=\"logistic-regression\")\n",
    "warnings.filterwarnings('ignore')\n",
    "logging.getLogger(\"mlflow\").setLevel(logging.WARNING)\n",
    "logging.getLogger(\"mlflow\").setLevel(logging.INFO)\n",
    "\n",
    "regs = [\"Ridge\", \"Normal\"]\n",
    "methods = [\"sto\", \"minibatch\", \"batch\"]\n",
    "lrs = [0.01, 0.001, 0.0001]\n",
    "\n",
    "num_class = Y_train_encoded.shape[1]\n",
    "\n",
    "for reg in regs:\n",
    "    for method in methods:\n",
    "        for lr in lrs:\n",
    "            \n",
    "            params = {\"method\": method, \"lr\": lr, \"l\": 0.1}\n",
    "            mlflow.start_run(run_name=f\"reg-{reg}-method-{params['method']}-lr-{params['lr']}\", nested=True)\n",
    "            mlflow_params = {\"reg\": reg, \"method\": method, \"lr\": lr, \"l\": 0.1}\n",
    "            mlflow.log_params(params=mlflow_params)\n",
    "            \n",
    "            print()\n",
    "            print(\"=\"*5, \"Regularization:\", reg, \"=\"*5)\n",
    "            print(\"=\"*5, \"Method:\", method, \"=\"*5)\n",
    "            print(\"=\"*5, \"Learning Rate:\", lr, \"=\"*5)\n",
    "\n",
    "\n",
    "            type_of_regression = str_to_class(reg)   \n",
    "            model = type_of_regression(**params)  \n",
    "            model.fit(X_train, Y_train_encoded)\n",
    "            yhat = model.predict(X_test)\n",
    "            \n",
    "            print(\"-\"*25)\n",
    "            acc, total = accuracy(y_test, yhat)\n",
    "            class_precision, avg_precision, w_precision, supports = precision(y_test, yhat)\n",
    "            class_recall, avg_recall, w_recall, supports = recall(y_test, yhat)\n",
    "            class_f1_score, avg_f1_score, w_f1_score, supports = f1_score(y_test, yhat)\n",
    "\n",
    "            print(\"Accuracy: \", acc)\n",
    "            mlflow.log_metric(key=\"accuracy\", value=acc)\n",
    "            \n",
    "            print(\"Average Precision: \", avg_precision)\n",
    "            mlflow.log_metric(key=\"average_precision\", value=avg_precision)\n",
    "            \n",
    "            print(\"Weighted Precision: \", w_precision)\n",
    "            mlflow.log_metric(key=\"weighted_precision\", value=w_precision)\n",
    "            \n",
    "            print(\"Average Recall: \", avg_recall)\n",
    "            mlflow.log_metric(key=\"average_recall\", value=avg_recall)\n",
    "            \n",
    "            print(\"Weighted Recall: \", w_recall)\n",
    "            mlflow.log_metric(key=\"weighted_recall\", value=w_recall)\n",
    "            \n",
    "            print(\"Average F1Score: \", avg_f1_score)\n",
    "            mlflow.log_metric(key=\"average_f1score\", value=avg_f1_score)\n",
    "            \n",
    "            print(\"Weighted F1Score: \", w_f1_score)\n",
    "            mlflow.log_metric(key=\"weighted_f1score\", value=w_f1_score)            \n",
    "\n",
    "\n",
    "            signature = mlflow.models.infer_signature(X_train, model.predict(X_train))\n",
    "            mlflow.sklearn.log_model(model, artifact_path='model', signature=signature)\n",
    "\n",
    "            #######\n",
    "\n",
    "            mlflow.end_run()"
   ]
  },
  {
   "cell_type": "code",
   "execution_count": 99,
   "id": "5b732d1a",
   "metadata": {},
   "outputs": [],
   "source": [
    "import pickle\n",
    "\n",
    "with open('scaler.pickle', 'wb') as handle:\n",
    "    pickle.dump(scaler, handle)"
   ]
  },
  {
   "cell_type": "markdown",
   "id": "b0e444c6",
   "metadata": {},
   "source": [
    "# Infrenceing"
   ]
  },
  {
   "cell_type": "code",
   "execution_count": 26,
   "id": "eb014a03",
   "metadata": {},
   "outputs": [],
   "source": [
    "import pickle\n",
    "\n",
    "with open('scaler.pickle', 'rb') as handle:\n",
    "    scaler = pickle.load(handle)"
   ]
  },
  {
   "cell_type": "code",
   "execution_count": 27,
   "id": "a7197dcd",
   "metadata": {},
   "outputs": [
    {
     "name": "stderr",
     "output_type": "stream",
     "text": [
      "C:\\Users\\Phone Myint Naing\\anaconda3\\envs\\python_ml\\lib\\site-packages\\sklearn\\base.py:493: UserWarning: X does not have valid feature names, but StandardScaler was fitted with feature names\n",
      "  warnings.warn(\n"
     ]
    },
    {
     "data": {
      "text/plain": [
       "array([[1.033471  , 0.23375899]])"
      ]
     },
     "execution_count": 27,
     "metadata": {},
     "output_type": "execute_result"
    }
   ],
   "source": [
    "sample = np.array([[2018, 100]])\n",
    "sample = scaler.transform(sample)\n",
    "sample"
   ]
  },
  {
   "cell_type": "code",
   "execution_count": 28,
   "id": "76f3c4a6",
   "metadata": {},
   "outputs": [
    {
     "data": {
      "text/plain": [
       "array([[1.        , 1.033471  , 0.23375899]])"
      ]
     },
     "execution_count": 28,
     "metadata": {},
     "output_type": "execute_result"
    }
   ],
   "source": [
    "intercept = np.ones((sample.shape[0], 1))\n",
    "sample   = np.concatenate((intercept, sample), axis=1)  #add intercept\n",
    "sample"
   ]
  },
  {
   "cell_type": "code",
   "execution_count": 29,
   "id": "9b342244",
   "metadata": {},
   "outputs": [
    {
     "data": {
      "text/plain": [
       "array([0], dtype=int64)"
      ]
     },
     "execution_count": 29,
     "metadata": {},
     "output_type": "execute_result"
    }
   ],
   "source": [
    "model.predict(sample)"
   ]
  },
  {
   "cell_type": "markdown",
   "id": "69ae09fe",
   "metadata": {},
   "source": [
    "# Unit Testing"
   ]
  },
  {
   "cell_type": "markdown",
   "id": "e2c98a6a",
   "metadata": {},
   "source": [
    "## Registered Model to Staging"
   ]
  },
  {
   "cell_type": "code",
   "execution_count": 5,
   "id": "9ed286e3",
   "metadata": {},
   "outputs": [
    {
     "name": "stderr",
     "output_type": "stream",
     "text": [
      "C:\\Users\\Phone Myint Naing\\AppData\\Local\\Temp\\ipykernel_14716\\180559159.py:14: FutureWarning: ``mlflow.tracking.client.MlflowClient.transition_model_version_stage`` is deprecated since 2.9.0. Model registry stages will be removed in a future major release. To learn more about the deprecation of model registry stages, see our migration guide here: https://mlflow.org/docs/latest/model-registry.html#migrating-from-stages\n",
      "  client.transition_model_version_stage(name=model_name, version=1, stage=stage )\n"
     ]
    },
    {
     "data": {
      "text/plain": [
       "<ModelVersion: aliases=[], creation_timestamp=1728184089772, current_stage='Staging', description='', last_updated_timestamp=1728262539185, name='st124973-a3-model', run_id='de88c406000f4180a27ee16ff7412b60', run_link='', source='mlflow-artifacts:/758892972552086115/de88c406000f4180a27ee16ff7412b60/artifacts/model', status='READY', status_message='', tags={}, user_id='', version='1'>"
      ]
     },
     "execution_count": 5,
     "metadata": {},
     "output_type": "execute_result"
    }
   ],
   "source": [
    "import mlflow\n",
    "import os\n",
    "\n",
    "tracking_uri = \"https://mlflow.ml.brain.cs.ait.ac.th/\"\n",
    "mlflow.set_tracking_uri(tracking_uri)\n",
    "os.environ['MLFLOW_TRACKING_USERNAME'] = 'admin'\n",
    "os.environ['MLFLOW_TRACKING_PASSWORD'] = 'password'\n",
    "os.environ[\"LOGNAME\"] = \"st124973\"\n",
    "stage = 'Staging'\n",
    "model_name = 'st124973-a3-model'\n",
    "\n",
    "\n",
    "client = mlflow.tracking.MlflowClient()\n",
    "client.transition_model_version_stage(name=model_name, version=1, stage=stage )"
   ]
  },
  {
   "cell_type": "markdown",
   "id": "fe1f6f06",
   "metadata": {},
   "source": [
    "## Test Staging Model"
   ]
  },
  {
   "cell_type": "code",
   "execution_count": 6,
   "id": "376a7611",
   "metadata": {},
   "outputs": [],
   "source": [
    "import pickle\n",
    "import numpy as np"
   ]
  },
  {
   "cell_type": "code",
   "execution_count": 7,
   "id": "4ec52ac9",
   "metadata": {},
   "outputs": [],
   "source": [
    "model = mlflow.sklearn.load_model(model_uri=f\"models:/{model_name}/{stage}\")"
   ]
  },
  {
   "cell_type": "code",
   "execution_count": 58,
   "id": "64057cdb",
   "metadata": {},
   "outputs": [],
   "source": [
    "with open('scaler.pickle', 'rb') as handle:\n",
    "    scaler = pickle.load(handle)"
   ]
  },
  {
   "cell_type": "code",
   "execution_count": 59,
   "id": "02f13f20",
   "metadata": {},
   "outputs": [
    {
     "name": "stderr",
     "output_type": "stream",
     "text": [
      "C:\\Users\\Phone Myint Naing\\anaconda3\\envs\\python_ml\\lib\\site-packages\\sklearn\\base.py:493: UserWarning: X does not have valid feature names, but StandardScaler was fitted with feature names\n",
      "  warnings.warn(\n"
     ]
    }
   ],
   "source": [
    "sample = np.array([[2018, 100]])\n",
    "sample = scaler.transform(sample)\n",
    "intercept = np.ones((sample.shape[0], 1))\n",
    "sample   = np.concatenate((intercept, sample), axis=1)  #add intercept"
   ]
  },
  {
   "cell_type": "code",
   "execution_count": 60,
   "id": "829ab026",
   "metadata": {},
   "outputs": [
    {
     "data": {
      "text/plain": [
       "True"
      ]
     },
     "execution_count": 60,
     "metadata": {},
     "output_type": "execute_result"
    }
   ],
   "source": [
    "sample.shape == (1, 3)"
   ]
  },
  {
   "cell_type": "code",
   "execution_count": 61,
   "id": "62fbd394",
   "metadata": {},
   "outputs": [
    {
     "data": {
      "text/plain": [
       "True"
      ]
     },
     "execution_count": 61,
     "metadata": {},
     "output_type": "execute_result"
    }
   ],
   "source": [
    "model.predict(sample).shape == (1, )"
   ]
  },
  {
   "cell_type": "markdown",
   "id": "dac70eab",
   "metadata": {},
   "source": [
    "## Staging Model To Production"
   ]
  },
  {
   "cell_type": "code",
   "execution_count": 12,
   "id": "aed41386",
   "metadata": {},
   "outputs": [
    {
     "name": "stderr",
     "output_type": "stream",
     "text": [
      "C:\\Users\\Phone Myint Naing\\AppData\\Local\\Temp\\ipykernel_14716\\1274418161.py:3: FutureWarning: ``mlflow.tracking.client.MlflowClient.transition_model_version_stage`` is deprecated since 2.9.0. Model registry stages will be removed in a future major release. To learn more about the deprecation of model registry stages, see our migration guide here: https://mlflow.org/docs/latest/model-registry.html#migrating-from-stages\n",
      "  client.transition_model_version_stage(name=model_name, version=1, stage=stage)\n"
     ]
    },
    {
     "data": {
      "text/plain": [
       "<ModelVersion: aliases=[], creation_timestamp=1728184089772, current_stage='Production', description='', last_updated_timestamp=1728262572183, name='st124973-a3-model', run_id='de88c406000f4180a27ee16ff7412b60', run_link='', source='mlflow-artifacts:/758892972552086115/de88c406000f4180a27ee16ff7412b60/artifacts/model', status='READY', status_message='', tags={}, user_id='', version='1'>"
      ]
     },
     "execution_count": 12,
     "metadata": {},
     "output_type": "execute_result"
    }
   ],
   "source": [
    "stage = 'Production'\n",
    "model_name = 'st124973-a3-model'\n",
    "client.transition_model_version_stage(name=model_name, version=1, stage=stage)"
   ]
  },
  {
   "cell_type": "code",
   "execution_count": 53,
   "id": "360ec6bf",
   "metadata": {},
   "outputs": [
    {
     "name": "stderr",
     "output_type": "stream",
     "text": [
      "C:\\Users\\Phone Myint Naing\\anaconda3\\envs\\python_ml\\lib\\site-packages\\mlflow\\store\\artifact\\utils\\models.py:32: FutureWarning: ``mlflow.tracking.client.MlflowClient.get_latest_versions`` is deprecated since 2.9.0. Model registry stages will be removed in a future major release. To learn more about the deprecation of model registry stages, see our migration guide here: https://mlflow.org/docs/latest/model-registry.html#migrating-from-stages\n",
      "  latest = client.get_latest_versions(name, None if stage is None else [stage])\n"
     ]
    }
   ],
   "source": [
    "model = mlflow.sklearn.load_model(model_uri=f\"models:/{model_name}/{stage}\")"
   ]
  },
  {
   "cell_type": "code",
   "execution_count": 54,
   "id": "cd9a487d",
   "metadata": {},
   "outputs": [
    {
     "data": {
      "text/plain": [
       "<__main__.Normal at 0x29e9d135c40>"
      ]
     },
     "execution_count": 54,
     "metadata": {},
     "output_type": "execute_result"
    }
   ],
   "source": [
    "model"
   ]
  },
  {
   "cell_type": "code",
   "execution_count": 56,
   "id": "e27ef2bb",
   "metadata": {},
   "outputs": [],
   "source": [
    "mlflow.sklearn.save_model(\n",
    "    model,\n",
    "    'st124973-a3-model',\n",
    "    serialization_format=mlflow.sklearn.SERIALIZATION_FORMAT_CLOUDPICKLE,\n",
    ")"
   ]
  },
  {
   "cell_type": "code",
   "execution_count": 57,
   "id": "e3730e88",
   "metadata": {},
   "outputs": [],
   "source": [
    "model = mlflow.sklearn.load_model('st124973-a3-model')"
   ]
  },
  {
   "cell_type": "code",
   "execution_count": 62,
   "id": "14216809",
   "metadata": {},
   "outputs": [
    {
     "data": {
      "text/plain": [
       "array([0], dtype=int64)"
      ]
     },
     "execution_count": 62,
     "metadata": {},
     "output_type": "execute_result"
    }
   ],
   "source": [
    "model.predict(sample)"
   ]
  }
 ],
 "metadata": {
  "kernelspec": {
   "display_name": "python_ml",
   "language": "python",
   "name": "python_ml"
  },
  "language_info": {
   "codemirror_mode": {
    "name": "ipython",
    "version": 3
   },
   "file_extension": ".py",
   "mimetype": "text/x-python",
   "name": "python",
   "nbconvert_exporter": "python",
   "pygments_lexer": "ipython3",
   "version": "3.9.18"
  }
 },
 "nbformat": 4,
 "nbformat_minor": 5
}
